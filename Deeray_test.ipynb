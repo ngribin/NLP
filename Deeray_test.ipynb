{
 "cells": [
  {
   "cell_type": "markdown",
   "id": "995ce9ce",
   "metadata": {},
   "source": [
    "# Product Brief\n",
    "\n",
    "* Необходимо подготовить несколько графиков/диаграмм/слайдов и пояснить их.\n",
    "* Структурировать/категоризировать отзывы"
   ]
  },
  {
   "cell_type": "code",
   "execution_count": 1,
   "id": "a6012b4b",
   "metadata": {},
   "outputs": [
    {
     "name": "stdout",
     "output_type": "stream",
     "text": [
      "Requirement already satisfied: wordcloud in c:\\users\\theli\\anaconda3\\lib\\site-packages (1.8.2.2)\n",
      "Requirement already satisfied: numpy>=1.6.1 in c:\\users\\theli\\anaconda3\\lib\\site-packages (from wordcloud) (1.21.5)\n",
      "Requirement already satisfied: matplotlib in c:\\users\\theli\\anaconda3\\lib\\site-packages (from wordcloud) (3.5.1)\n",
      "Requirement already satisfied: pillow in c:\\users\\theli\\anaconda3\\lib\\site-packages (from wordcloud) (9.0.1)\n",
      "Requirement already satisfied: kiwisolver>=1.0.1 in c:\\users\\theli\\anaconda3\\lib\\site-packages (from matplotlib->wordcloud) (1.3.2)\n",
      "Requirement already satisfied: pyparsing>=2.2.1 in c:\\users\\theli\\anaconda3\\lib\\site-packages (from matplotlib->wordcloud) (3.0.4)\n",
      "Requirement already satisfied: python-dateutil>=2.7 in c:\\users\\theli\\anaconda3\\lib\\site-packages (from matplotlib->wordcloud) (2.8.2)\n",
      "Requirement already satisfied: packaging>=20.0 in c:\\users\\theli\\anaconda3\\lib\\site-packages (from matplotlib->wordcloud) (21.3)\n",
      "Requirement already satisfied: cycler>=0.10 in c:\\users\\theli\\anaconda3\\lib\\site-packages (from matplotlib->wordcloud) (0.11.0)\n",
      "Requirement already satisfied: fonttools>=4.22.0 in c:\\users\\theli\\anaconda3\\lib\\site-packages (from matplotlib->wordcloud) (4.25.0)\n",
      "Requirement already satisfied: six>=1.5 in c:\\users\\theli\\anaconda3\\lib\\site-packages (from python-dateutil>=2.7->matplotlib->wordcloud) (1.16.0)\n"
     ]
    }
   ],
   "source": [
    "!pip install wordcloud"
   ]
  },
  {
   "cell_type": "code",
   "execution_count": 2,
   "id": "570e14b9",
   "metadata": {},
   "outputs": [],
   "source": [
    "import pandas as pd\n",
    "import numpy as np\n",
    "import matplotlib.pyplot as plt\n",
    "import seaborn as sns\n",
    "\n",
    "\n",
    "from pymystem3 import Mystem\n",
    "import re\n",
    "from sklearn.feature_extraction.text import CountVectorizer\n",
    "\n",
    "import nltk\n",
    "from nltk.corpus import stopwords as nltk_stopwords\n",
    "from nltk.corpus import wordnet\n",
    "from sklearn.pipeline import Pipeline\n",
    "from sklearn.feature_extraction.text import TfidfVectorizer, TfidfTransformer\n",
    "\n",
    "from sklearn.model_selection import train_test_split, GridSearchCV\n",
    "from sklearn.metrics import f1_score\n",
    "\n",
    "\n",
    "\n",
    "from sklearn.linear_model import LogisticRegression\n",
    "from lightgbm import LGBMClassifier \n",
    "\n",
    "from wordcloud import WordCloud\n",
    "from pandas import ExcelWriter\n",
    "from tqdm import tqdm\n",
    "\n",
    "# увеличиваю ширину колонок для чтения текста отзывов\n",
    "pd.set_option('max_colwidth', 120)\n",
    "pd.set_option('display.width', 500)\n",
    "\n",
    "RND = 12345"
   ]
  },
  {
   "cell_type": "code",
   "execution_count": 3,
   "id": "a9fa44a6",
   "metadata": {},
   "outputs": [],
   "source": [
    "# Загружаем датасет\n",
    "data = pd.read_excel(r'D:\\Data Science\\Тестовые\\deeray\\Грибин Николай_Тестовое задание_отзывы.xlsx', sheet_name=1)"
   ]
  },
  {
   "cell_type": "markdown",
   "id": "f7a3dc8a",
   "metadata": {},
   "source": [
    "### Анализ данных"
   ]
  },
  {
   "cell_type": "code",
   "execution_count": 4,
   "id": "84f858f0",
   "metadata": {},
   "outputs": [],
   "source": [
    "# формат datetime\n",
    "data['Дата'] = pd.to_datetime(data['Дата'],  format='%d/%m/%Y')"
   ]
  },
  {
   "cell_type": "code",
   "execution_count": 5,
   "id": "dafbb3c9",
   "metadata": {
    "scrolled": true
   },
   "outputs": [
    {
     "name": "stdout",
     "output_type": "stream",
     "text": [
      "<class 'pandas.core.frame.DataFrame'>\n",
      "RangeIndex: 3925 entries, 0 to 3924\n",
      "Data columns (total 12 columns):\n",
      " #   Column                           Non-Null Count  Dtype         \n",
      "---  ------                           --------------  -----         \n",
      " 0   ID отзыва                        3925 non-null   float64       \n",
      " 1   Дата                             3925 non-null   datetime64[ns]\n",
      " 2   Номенклатура                     3925 non-null   object        \n",
      " 3   Количество звезд                 3925 non-null   int64         \n",
      " 4   Бренд                            3925 non-null   object        \n",
      " 5   Текст отзыва                     3925 non-null   object        \n",
      " 6   Имя                              3925 non-null   object        \n",
      " 7   Регион                           3925 non-null   object        \n",
      " 8   Цвет                             2824 non-null   object        \n",
      " 9   Размер                           3925 non-null   object        \n",
      " 10  Полезность (количество минусов)  3925 non-null   int64         \n",
      " 11  Полезность (количество плюсов)   3925 non-null   int64         \n",
      "dtypes: datetime64[ns](1), float64(1), int64(3), object(7)\n",
      "memory usage: 368.1+ KB\n"
     ]
    }
   ],
   "source": [
    "data.info()"
   ]
  },
  {
   "cell_type": "code",
   "execution_count": 6,
   "id": "5e102a9b",
   "metadata": {
    "scrolled": false
   },
   "outputs": [
    {
     "data": {
      "text/plain": [
       "ID отзыва                             0\n",
       "Дата                                  0\n",
       "Номенклатура                          0\n",
       "Количество звезд                      0\n",
       "Бренд                                 0\n",
       "Текст отзыва                          0\n",
       "Имя                                   0\n",
       "Регион                                0\n",
       "Цвет                               1101\n",
       "Размер                                0\n",
       "Полезность (количество минусов)       0\n",
       "Полезность (количество плюсов)        0\n",
       "dtype: int64"
      ]
     },
     "execution_count": 6,
     "metadata": {},
     "output_type": "execute_result"
    }
   ],
   "source": [
    "data.isna().sum()"
   ]
  },
  {
   "cell_type": "code",
   "execution_count": 7,
   "id": "c790df4a",
   "metadata": {},
   "outputs": [
    {
     "data": {
      "text/plain": [
       "0"
      ]
     },
     "execution_count": 7,
     "metadata": {},
     "output_type": "execute_result"
    }
   ],
   "source": [
    "data.duplicated().sum()"
   ]
  },
  {
   "cell_type": "markdown",
   "id": "0c2caf73",
   "metadata": {},
   "source": [
    "Пропуски есть в"
   ]
  },
  {
   "cell_type": "code",
   "execution_count": 8,
   "id": "b57027da",
   "metadata": {
    "scrolled": false
   },
   "outputs": [
    {
     "data": {
      "text/html": [
       "<div>\n",
       "<style scoped>\n",
       "    .dataframe tbody tr th:only-of-type {\n",
       "        vertical-align: middle;\n",
       "    }\n",
       "\n",
       "    .dataframe tbody tr th {\n",
       "        vertical-align: top;\n",
       "    }\n",
       "\n",
       "    .dataframe thead th {\n",
       "        text-align: right;\n",
       "    }\n",
       "</style>\n",
       "<table border=\"1\" class=\"dataframe\">\n",
       "  <thead>\n",
       "    <tr style=\"text-align: right;\">\n",
       "      <th></th>\n",
       "      <th>ID отзыва</th>\n",
       "      <th>Дата</th>\n",
       "      <th>Номенклатура</th>\n",
       "      <th>Количество звезд</th>\n",
       "      <th>Бренд</th>\n",
       "      <th>Текст отзыва</th>\n",
       "      <th>Имя</th>\n",
       "      <th>Регион</th>\n",
       "      <th>Цвет</th>\n",
       "      <th>Размер</th>\n",
       "      <th>Полезность (количество минусов)</th>\n",
       "      <th>Полезность (количество плюсов)</th>\n",
       "    </tr>\n",
       "  </thead>\n",
       "  <tbody>\n",
       "    <tr>\n",
       "      <th>2595</th>\n",
       "      <td>6729.0</td>\n",
       "      <td>2020-12-09</td>\n",
       "      <td>Артикул 1854</td>\n",
       "      <td>5</td>\n",
       "      <td>Бренд 24</td>\n",
       "      <td>Упаковка порвана,но нитки в порядке</td>\n",
       "      <td>Любовь</td>\n",
       "      <td>RU</td>\n",
       "      <td>салатовый</td>\n",
       "      <td>0</td>\n",
       "      <td>0</td>\n",
       "      <td>0</td>\n",
       "    </tr>\n",
       "    <tr>\n",
       "      <th>827</th>\n",
       "      <td>2584.0</td>\n",
       "      <td>2021-05-19</td>\n",
       "      <td>Артикул 179</td>\n",
       "      <td>5</td>\n",
       "      <td>Бренд 22</td>\n",
       "      <td>Качественно обработанные детали рамы! Давно слышала о хорошем качестве Арабески. Решила попробовать. Спасибо произво...</td>\n",
       "      <td>Екатерина</td>\n",
       "      <td>RU</td>\n",
       "      <td>NaN</td>\n",
       "      <td>0</td>\n",
       "      <td>0</td>\n",
       "      <td>1</td>\n",
       "    </tr>\n",
       "    <tr>\n",
       "      <th>108</th>\n",
       "      <td>380.0</td>\n",
       "      <td>2021-10-20</td>\n",
       "      <td>Артикул 344</td>\n",
       "      <td>5</td>\n",
       "      <td>Бренд 21</td>\n",
       "      <td>Немного разочаровал цвет, больше похоже на цвет алый чем на оранжевый.</td>\n",
       "      <td>Елена</td>\n",
       "      <td>RU</td>\n",
       "      <td>морковный, оранжевый</td>\n",
       "      <td>0</td>\n",
       "      <td>0</td>\n",
       "      <td>0</td>\n",
       "    </tr>\n",
       "    <tr>\n",
       "      <th>3189</th>\n",
       "      <td>8176.0</td>\n",
       "      <td>2020-10-29</td>\n",
       "      <td>Артикул 347</td>\n",
       "      <td>5</td>\n",
       "      <td>Бренд 56</td>\n",
       "      <td>Супер 👍 Рекомендую</td>\n",
       "      <td>Гульзира</td>\n",
       "      <td>KZ</td>\n",
       "      <td>серебристый</td>\n",
       "      <td>0</td>\n",
       "      <td>0</td>\n",
       "      <td>1</td>\n",
       "    </tr>\n",
       "    <tr>\n",
       "      <th>3921</th>\n",
       "      <td>9994.0</td>\n",
       "      <td>2020-08-05</td>\n",
       "      <td>Артикул 475</td>\n",
       "      <td>5</td>\n",
       "      <td>Бренд 53</td>\n",
       "      <td>Пришел быстро. Не вскрытый. Брала за 1192 рубля. Дешевле чем в закупках вк.</td>\n",
       "      <td>Наталья</td>\n",
       "      <td>RU</td>\n",
       "      <td>горчичный</td>\n",
       "      <td>0</td>\n",
       "      <td>2</td>\n",
       "      <td>6</td>\n",
       "    </tr>\n",
       "  </tbody>\n",
       "</table>\n",
       "</div>"
      ],
      "text/plain": [
       "      ID отзыва       Дата  Номенклатура  Количество звезд     Бренд                                                                                                             Текст отзыва        Имя Регион                  Цвет Размер  Полезность (количество минусов)  Полезность (количество плюсов)\n",
       "2595     6729.0 2020-12-09  Артикул 1854                 5  Бренд 24                                                                                      Упаковка порвана,но нитки в порядке     Любовь     RU             салатовый      0                                0                               0\n",
       "827      2584.0 2021-05-19   Артикул 179                 5  Бренд 22  Качественно обработанные детали рамы! Давно слышала о хорошем качестве Арабески. Решила попробовать. Спасибо произво...  Екатерина     RU                   NaN      0                                0                               1\n",
       "108       380.0 2021-10-20   Артикул 344                 5  Бренд 21                                                   Немного разочаровал цвет, больше похоже на цвет алый чем на оранжевый.      Елена     RU  морковный, оранжевый      0                                0                               0\n",
       "3189     8176.0 2020-10-29   Артикул 347                 5  Бренд 56                                                                                                       Супер 👍 Рекомендую   Гульзира     KZ           серебристый      0                                0                               1\n",
       "3921     9994.0 2020-08-05   Артикул 475                 5  Бренд 53                                              Пришел быстро. Не вскрытый. Брала за 1192 рубля. Дешевле чем в закупках вк.    Наталья     RU             горчичный      0                                2                               6"
      ]
     },
     "execution_count": 8,
     "metadata": {},
     "output_type": "execute_result"
    }
   ],
   "source": [
    "data.sample(5)"
   ]
  },
  {
   "cell_type": "code",
   "execution_count": 9,
   "id": "1f9e6bb7",
   "metadata": {},
   "outputs": [],
   "source": [
    "# содаю новые признаки\n",
    "data['общая_полезность_разность'] = data['Полезность (количество плюсов)'] - data['Полезность (количество минусов)']\n",
    "data['общая_полезность'] = data['Полезность (количество плюсов)'] + data['Полезность (количество минусов)']\n",
    "data['полезность_pct'] =  (data['общая_полезность_разность'] / data['общая_полезность']) * 100"
   ]
  },
  {
   "cell_type": "code",
   "execution_count": 10,
   "id": "625ada92",
   "metadata": {},
   "outputs": [],
   "source": [
    "efficency = data.sort_values(by='общая_полезность_разность', ascending=False)"
   ]
  },
  {
   "cell_type": "code",
   "execution_count": 11,
   "id": "534913af",
   "metadata": {
    "scrolled": false
   },
   "outputs": [
    {
     "data": {
      "text/html": [
       "<div>\n",
       "<style scoped>\n",
       "    .dataframe tbody tr th:only-of-type {\n",
       "        vertical-align: middle;\n",
       "    }\n",
       "\n",
       "    .dataframe tbody tr th {\n",
       "        vertical-align: top;\n",
       "    }\n",
       "\n",
       "    .dataframe thead th {\n",
       "        text-align: right;\n",
       "    }\n",
       "</style>\n",
       "<table border=\"1\" class=\"dataframe\">\n",
       "  <thead>\n",
       "    <tr style=\"text-align: right;\">\n",
       "      <th></th>\n",
       "      <th>ID отзыва</th>\n",
       "      <th>Дата</th>\n",
       "      <th>Номенклатура</th>\n",
       "      <th>Количество звезд</th>\n",
       "      <th>Бренд</th>\n",
       "      <th>Текст отзыва</th>\n",
       "      <th>Имя</th>\n",
       "      <th>Регион</th>\n",
       "      <th>Цвет</th>\n",
       "      <th>Размер</th>\n",
       "      <th>Полезность (количество минусов)</th>\n",
       "      <th>Полезность (количество плюсов)</th>\n",
       "      <th>общая_полезность_разность</th>\n",
       "      <th>общая_полезность</th>\n",
       "      <th>полезность_pct</th>\n",
       "    </tr>\n",
       "  </thead>\n",
       "  <tbody>\n",
       "    <tr>\n",
       "      <th>3086</th>\n",
       "      <td>7903.0</td>\n",
       "      <td>2020-11-07</td>\n",
       "      <td>Артикул 2725</td>\n",
       "      <td>5</td>\n",
       "      <td>Бренд 20</td>\n",
       "      <td>Отличная Пряжа. Вяжу из неё бактусы.</td>\n",
       "      <td>Наталья</td>\n",
       "      <td>RU</td>\n",
       "      <td>черный, серый, желтый</td>\n",
       "      <td>0</td>\n",
       "      <td>2</td>\n",
       "      <td>121</td>\n",
       "      <td>119</td>\n",
       "      <td>123</td>\n",
       "      <td>96.747967</td>\n",
       "    </tr>\n",
       "    <tr>\n",
       "      <th>3817</th>\n",
       "      <td>9718.0</td>\n",
       "      <td>2020-08-20</td>\n",
       "      <td>Артикул 4246</td>\n",
       "      <td>5</td>\n",
       "      <td>Бренд 10</td>\n",
       "      <td>Пряжа отличного качества, немного пружинит, при ВТО растягивается в два раза, но затем «приходит в себя» и увеличива...</td>\n",
       "      <td>Лариса</td>\n",
       "      <td>RU</td>\n",
       "      <td>глубокий фиолетовый</td>\n",
       "      <td>0</td>\n",
       "      <td>1</td>\n",
       "      <td>85</td>\n",
       "      <td>84</td>\n",
       "      <td>86</td>\n",
       "      <td>97.674419</td>\n",
       "    </tr>\n",
       "    <tr>\n",
       "      <th>3303</th>\n",
       "      <td>8457.0</td>\n",
       "      <td>2020-10-17</td>\n",
       "      <td>Артикул 3761</td>\n",
       "      <td>5</td>\n",
       "      <td>Бренд 10</td>\n",
       "      <td>Я в восторге от этой пряжи! Мягкая, теплая, не колючая) \\nНа кофточку 46 размера ушло ровно 6 мотков. Вязала спицами...</td>\n",
       "      <td>Яна</td>\n",
       "      <td>RU</td>\n",
       "      <td>светло-зеленый</td>\n",
       "      <td>0</td>\n",
       "      <td>0</td>\n",
       "      <td>81</td>\n",
       "      <td>81</td>\n",
       "      <td>81</td>\n",
       "      <td>100.000000</td>\n",
       "    </tr>\n",
       "    <tr>\n",
       "      <th>3662</th>\n",
       "      <td>9320.0</td>\n",
       "      <td>2020-09-10</td>\n",
       "      <td>Артикул 3094</td>\n",
       "      <td>5</td>\n",
       "      <td>Бренд 18</td>\n",
       "      <td>Прекрасная пряжа. По моим ощущениям есть пропитка, т.к. после вто пряжа преображается - становится пушистее и ещё мя...</td>\n",
       "      <td>Ксения</td>\n",
       "      <td>RU</td>\n",
       "      <td>желтый, светло-бирюзовый, голубой</td>\n",
       "      <td>0</td>\n",
       "      <td>1</td>\n",
       "      <td>81</td>\n",
       "      <td>80</td>\n",
       "      <td>82</td>\n",
       "      <td>97.560976</td>\n",
       "    </tr>\n",
       "    <tr>\n",
       "      <th>3181</th>\n",
       "      <td>8155.0</td>\n",
       "      <td>2020-10-29</td>\n",
       "      <td>Артикул 4488</td>\n",
       "      <td>5</td>\n",
       "      <td>Бренд 10</td>\n",
       "      <td>Шикарная ниточка, пока расход мизерный</td>\n",
       "      <td>Татьяна</td>\n",
       "      <td>RU</td>\n",
       "      <td>светло-серый</td>\n",
       "      <td>0</td>\n",
       "      <td>0</td>\n",
       "      <td>77</td>\n",
       "      <td>77</td>\n",
       "      <td>77</td>\n",
       "      <td>100.000000</td>\n",
       "    </tr>\n",
       "  </tbody>\n",
       "</table>\n",
       "</div>"
      ],
      "text/plain": [
       "      ID отзыва       Дата  Номенклатура  Количество звезд     Бренд                                                                                                             Текст отзыва      Имя Регион                               Цвет Размер  Полезность (количество минусов)  Полезность (количество плюсов)  общая_полезность_разность  общая_полезность  полезность_pct\n",
       "3086     7903.0 2020-11-07  Артикул 2725                 5  Бренд 20                                                                                     Отличная Пряжа. Вяжу из неё бактусы.  Наталья     RU              черный, серый, желтый      0                                2                             121                        119               123       96.747967\n",
       "3817     9718.0 2020-08-20  Артикул 4246                 5  Бренд 10  Пряжа отличного качества, немного пружинит, при ВТО растягивается в два раза, но затем «приходит в себя» и увеличива...   Лариса     RU                глубокий фиолетовый      0                                1                              85                         84                86       97.674419\n",
       "3303     8457.0 2020-10-17  Артикул 3761                 5  Бренд 10  Я в восторге от этой пряжи! Мягкая, теплая, не колючая) \\nНа кофточку 46 размера ушло ровно 6 мотков. Вязала спицами...      Яна     RU                     светло-зеленый      0                                0                              81                         81                81      100.000000\n",
       "3662     9320.0 2020-09-10  Артикул 3094                 5  Бренд 18  Прекрасная пряжа. По моим ощущениям есть пропитка, т.к. после вто пряжа преображается - становится пушистее и ещё мя...   Ксения     RU  желтый, светло-бирюзовый, голубой      0                                1                              81                         80                82       97.560976\n",
       "3181     8155.0 2020-10-29  Артикул 4488                 5  Бренд 10                                                                                   Шикарная ниточка, пока расход мизерный  Татьяна     RU                       светло-серый      0                                0                              77                         77                77      100.000000"
      ]
     },
     "execution_count": 11,
     "metadata": {},
     "output_type": "execute_result"
    }
   ],
   "source": [
    "efficency.head(5)"
   ]
  },
  {
   "cell_type": "code",
   "execution_count": 12,
   "id": "8550da55",
   "metadata": {},
   "outputs": [
    {
     "data": {
      "text/html": [
       "<div>\n",
       "<style scoped>\n",
       "    .dataframe tbody tr th:only-of-type {\n",
       "        vertical-align: middle;\n",
       "    }\n",
       "\n",
       "    .dataframe tbody tr th {\n",
       "        vertical-align: top;\n",
       "    }\n",
       "\n",
       "    .dataframe thead th {\n",
       "        text-align: right;\n",
       "    }\n",
       "</style>\n",
       "<table border=\"1\" class=\"dataframe\">\n",
       "  <thead>\n",
       "    <tr style=\"text-align: right;\">\n",
       "      <th></th>\n",
       "      <th>ID отзыва</th>\n",
       "      <th>Дата</th>\n",
       "      <th>Номенклатура</th>\n",
       "      <th>Количество звезд</th>\n",
       "      <th>Бренд</th>\n",
       "      <th>Текст отзыва</th>\n",
       "      <th>Имя</th>\n",
       "      <th>Регион</th>\n",
       "      <th>Цвет</th>\n",
       "      <th>Размер</th>\n",
       "      <th>Полезность (количество минусов)</th>\n",
       "      <th>Полезность (количество плюсов)</th>\n",
       "      <th>общая_полезность_разность</th>\n",
       "      <th>общая_полезность</th>\n",
       "      <th>полезность_pct</th>\n",
       "    </tr>\n",
       "  </thead>\n",
       "  <tbody>\n",
       "    <tr>\n",
       "      <th>1989</th>\n",
       "      <td>5308.0</td>\n",
       "      <td>2021-01-19</td>\n",
       "      <td>Артикул 2021</td>\n",
       "      <td>1</td>\n",
       "      <td>Бренд 2</td>\n",
       "      <td>Ну и.забрала набор и не посмотрела..а дома смотрю.а рисунка на канве НЕТ.и что. вышивать счетным крестом..которым я ...</td>\n",
       "      <td>Оксана</td>\n",
       "      <td>RU</td>\n",
       "      <td>белый</td>\n",
       "      <td>0</td>\n",
       "      <td>12</td>\n",
       "      <td>0</td>\n",
       "      <td>-12</td>\n",
       "      <td>12</td>\n",
       "      <td>-100.000000</td>\n",
       "    </tr>\n",
       "    <tr>\n",
       "      <th>2700</th>\n",
       "      <td>6963.0</td>\n",
       "      <td>2020-12-01</td>\n",
       "      <td>Артикул 2047</td>\n",
       "      <td>4</td>\n",
       "      <td>Бренд 10</td>\n",
       "      <td>К сожалению альпака оказалась очень колючей для кожи с атопическим дерматитом. И конечно же минус в том, что нельзя ...</td>\n",
       "      <td>Анастасия</td>\n",
       "      <td>RU</td>\n",
       "      <td>фуксия</td>\n",
       "      <td>0</td>\n",
       "      <td>28</td>\n",
       "      <td>14</td>\n",
       "      <td>-14</td>\n",
       "      <td>42</td>\n",
       "      <td>-33.333333</td>\n",
       "    </tr>\n",
       "    <tr>\n",
       "      <th>3053</th>\n",
       "      <td>7818.0</td>\n",
       "      <td>2020-11-09</td>\n",
       "      <td>Артикул 1776</td>\n",
       "      <td>2</td>\n",
       "      <td>Бренд 4</td>\n",
       "      <td>Получила набор.Был вскрыт и даже ничем не заклеен.Все из него вываливалось.В наборе не хватало ключа(расшифровки сим...</td>\n",
       "      <td>Надежда</td>\n",
       "      <td>RU</td>\n",
       "      <td>NaN</td>\n",
       "      <td>0</td>\n",
       "      <td>17</td>\n",
       "      <td>1</td>\n",
       "      <td>-16</td>\n",
       "      <td>18</td>\n",
       "      <td>-88.888889</td>\n",
       "    </tr>\n",
       "    <tr>\n",
       "      <th>3033</th>\n",
       "      <td>7770.0</td>\n",
       "      <td>2020-11-10</td>\n",
       "      <td>Артикул 3032</td>\n",
       "      <td>5</td>\n",
       "      <td>Бренд 10</td>\n",
       "      <td>Вязала сыну пуловер. Классные нитки. Вязать очень приятно. Не колется. Спасибо.</td>\n",
       "      <td>Татьяна</td>\n",
       "      <td>RU</td>\n",
       "      <td>аметистовый</td>\n",
       "      <td>0</td>\n",
       "      <td>35</td>\n",
       "      <td>14</td>\n",
       "      <td>-21</td>\n",
       "      <td>49</td>\n",
       "      <td>-42.857143</td>\n",
       "    </tr>\n",
       "    <tr>\n",
       "      <th>3154</th>\n",
       "      <td>8087.0</td>\n",
       "      <td>2020-11-01</td>\n",
       "      <td>Артикул 1776</td>\n",
       "      <td>1</td>\n",
       "      <td>Бренд 4</td>\n",
       "      <td>Заказала набор luca s, получила в пункте выдачи, при проверке данного набора было обнаружено отсутствие расшифровки ...</td>\n",
       "      <td>Наталья</td>\n",
       "      <td>RU</td>\n",
       "      <td>NaN</td>\n",
       "      <td>0</td>\n",
       "      <td>28</td>\n",
       "      <td>2</td>\n",
       "      <td>-26</td>\n",
       "      <td>30</td>\n",
       "      <td>-86.666667</td>\n",
       "    </tr>\n",
       "  </tbody>\n",
       "</table>\n",
       "</div>"
      ],
      "text/plain": [
       "      ID отзыва       Дата  Номенклатура  Количество звезд     Бренд                                                                                                             Текст отзыва        Имя Регион         Цвет Размер  Полезность (количество минусов)  Полезность (количество плюсов)  общая_полезность_разность  общая_полезность  полезность_pct\n",
       "1989     5308.0 2021-01-19  Артикул 2021                 1   Бренд 2  Ну и.забрала набор и не посмотрела..а дома смотрю.а рисунка на канве НЕТ.и что. вышивать счетным крестом..которым я ...     Оксана     RU        белый      0                               12                               0                        -12                12     -100.000000\n",
       "2700     6963.0 2020-12-01  Артикул 2047                 4  Бренд 10  К сожалению альпака оказалась очень колючей для кожи с атопическим дерматитом. И конечно же минус в том, что нельзя ...  Анастасия     RU       фуксия      0                               28                              14                        -14                42      -33.333333\n",
       "3053     7818.0 2020-11-09  Артикул 1776                 2   Бренд 4  Получила набор.Был вскрыт и даже ничем не заклеен.Все из него вываливалось.В наборе не хватало ключа(расшифровки сим...    Надежда     RU          NaN      0                               17                               1                        -16                18      -88.888889\n",
       "3033     7770.0 2020-11-10  Артикул 3032                 5  Бренд 10                                          Вязала сыну пуловер. Классные нитки. Вязать очень приятно. Не колется. Спасибо.    Татьяна     RU  аметистовый      0                               35                              14                        -21                49      -42.857143\n",
       "3154     8087.0 2020-11-01  Артикул 1776                 1   Бренд 4  Заказала набор luca s, получила в пункте выдачи, при проверке данного набора было обнаружено отсутствие расшифровки ...    Наталья     RU          NaN      0                               28                               2                        -26                30      -86.666667"
      ]
     },
     "execution_count": 12,
     "metadata": {},
     "output_type": "execute_result"
    }
   ],
   "source": [
    "efficency.tail(5)"
   ]
  },
  {
   "cell_type": "code",
   "execution_count": 13,
   "id": "298133e0",
   "metadata": {},
   "outputs": [],
   "source": [
    "# график"
   ]
  },
  {
   "cell_type": "markdown",
   "id": "cc37bd5b",
   "metadata": {},
   "source": [
    "### Топ брендов"
   ]
  },
  {
   "cell_type": "code",
   "execution_count": 14,
   "id": "0e7a4c4a",
   "metadata": {
    "scrolled": true
   },
   "outputs": [
    {
     "data": {
      "text/html": [
       "<div>\n",
       "<style scoped>\n",
       "    .dataframe tbody tr th:only-of-type {\n",
       "        vertical-align: middle;\n",
       "    }\n",
       "\n",
       "    .dataframe tbody tr th {\n",
       "        vertical-align: top;\n",
       "    }\n",
       "\n",
       "    .dataframe thead th {\n",
       "        text-align: right;\n",
       "    }\n",
       "</style>\n",
       "<table border=\"1\" class=\"dataframe\">\n",
       "  <thead>\n",
       "    <tr style=\"text-align: right;\">\n",
       "      <th></th>\n",
       "      <th>count</th>\n",
       "      <th>sum</th>\n",
       "    </tr>\n",
       "    <tr>\n",
       "      <th>Бренд</th>\n",
       "      <th></th>\n",
       "      <th></th>\n",
       "    </tr>\n",
       "  </thead>\n",
       "  <tbody>\n",
       "    <tr>\n",
       "      <th>Бренд 10</th>\n",
       "      <td>706</td>\n",
       "      <td>4367</td>\n",
       "    </tr>\n",
       "    <tr>\n",
       "      <th>Бренд 18</th>\n",
       "      <td>224</td>\n",
       "      <td>816</td>\n",
       "    </tr>\n",
       "    <tr>\n",
       "      <th>Бренд 24</th>\n",
       "      <td>531</td>\n",
       "      <td>751</td>\n",
       "    </tr>\n",
       "    <tr>\n",
       "      <th>Бренд 16</th>\n",
       "      <td>84</td>\n",
       "      <td>463</td>\n",
       "    </tr>\n",
       "    <tr>\n",
       "      <th>Бренд 22</th>\n",
       "      <td>270</td>\n",
       "      <td>394</td>\n",
       "    </tr>\n",
       "    <tr>\n",
       "      <th>Бренд 21</th>\n",
       "      <td>115</td>\n",
       "      <td>377</td>\n",
       "    </tr>\n",
       "    <tr>\n",
       "      <th>Бренд 4</th>\n",
       "      <td>135</td>\n",
       "      <td>253</td>\n",
       "    </tr>\n",
       "    <tr>\n",
       "      <th>Бренд 2</th>\n",
       "      <td>286</td>\n",
       "      <td>246</td>\n",
       "    </tr>\n",
       "    <tr>\n",
       "      <th>Бренд 53</th>\n",
       "      <td>88</td>\n",
       "      <td>222</td>\n",
       "    </tr>\n",
       "    <tr>\n",
       "      <th>Бренд 8</th>\n",
       "      <td>62</td>\n",
       "      <td>213</td>\n",
       "    </tr>\n",
       "    <tr>\n",
       "      <th>Бренд 35</th>\n",
       "      <td>57</td>\n",
       "      <td>209</td>\n",
       "    </tr>\n",
       "    <tr>\n",
       "      <th>Бренд 56</th>\n",
       "      <td>98</td>\n",
       "      <td>162</td>\n",
       "    </tr>\n",
       "    <tr>\n",
       "      <th>Бренд 20</th>\n",
       "      <td>12</td>\n",
       "      <td>138</td>\n",
       "    </tr>\n",
       "    <tr>\n",
       "      <th>Бренд 6</th>\n",
       "      <td>179</td>\n",
       "      <td>113</td>\n",
       "    </tr>\n",
       "    <tr>\n",
       "      <th>Бренд 3</th>\n",
       "      <td>100</td>\n",
       "      <td>112</td>\n",
       "    </tr>\n",
       "    <tr>\n",
       "      <th>Бренд 11</th>\n",
       "      <td>66</td>\n",
       "      <td>108</td>\n",
       "    </tr>\n",
       "    <tr>\n",
       "      <th>Бренд 7</th>\n",
       "      <td>33</td>\n",
       "      <td>101</td>\n",
       "    </tr>\n",
       "    <tr>\n",
       "      <th>Бренд 17</th>\n",
       "      <td>136</td>\n",
       "      <td>98</td>\n",
       "    </tr>\n",
       "    <tr>\n",
       "      <th>Бренд 14</th>\n",
       "      <td>50</td>\n",
       "      <td>90</td>\n",
       "    </tr>\n",
       "    <tr>\n",
       "      <th>Бренд 23</th>\n",
       "      <td>51</td>\n",
       "      <td>81</td>\n",
       "    </tr>\n",
       "    <tr>\n",
       "      <th>Бренд 90</th>\n",
       "      <td>98</td>\n",
       "      <td>74</td>\n",
       "    </tr>\n",
       "    <tr>\n",
       "      <th>Бренд 5</th>\n",
       "      <td>81</td>\n",
       "      <td>70</td>\n",
       "    </tr>\n",
       "    <tr>\n",
       "      <th>Бренд 61</th>\n",
       "      <td>101</td>\n",
       "      <td>62</td>\n",
       "    </tr>\n",
       "    <tr>\n",
       "      <th>Бренд 33</th>\n",
       "      <td>83</td>\n",
       "      <td>61</td>\n",
       "    </tr>\n",
       "    <tr>\n",
       "      <th>Бренд 25</th>\n",
       "      <td>105</td>\n",
       "      <td>46</td>\n",
       "    </tr>\n",
       "    <tr>\n",
       "      <th>Бренд 88</th>\n",
       "      <td>24</td>\n",
       "      <td>29</td>\n",
       "    </tr>\n",
       "    <tr>\n",
       "      <th>Бренд 52</th>\n",
       "      <td>61</td>\n",
       "      <td>24</td>\n",
       "    </tr>\n",
       "    <tr>\n",
       "      <th>Бренд 28</th>\n",
       "      <td>25</td>\n",
       "      <td>17</td>\n",
       "    </tr>\n",
       "    <tr>\n",
       "      <th>Бренд 91</th>\n",
       "      <td>34</td>\n",
       "      <td>11</td>\n",
       "    </tr>\n",
       "    <tr>\n",
       "      <th>Бренд 9</th>\n",
       "      <td>30</td>\n",
       "      <td>8</td>\n",
       "    </tr>\n",
       "  </tbody>\n",
       "</table>\n",
       "</div>"
      ],
      "text/plain": [
       "          count   sum\n",
       "Бренд                \n",
       "Бренд 10    706  4367\n",
       "Бренд 18    224   816\n",
       "Бренд 24    531   751\n",
       "Бренд 16     84   463\n",
       "Бренд 22    270   394\n",
       "Бренд 21    115   377\n",
       "Бренд 4     135   253\n",
       "Бренд 2     286   246\n",
       "Бренд 53     88   222\n",
       "Бренд 8      62   213\n",
       "Бренд 35     57   209\n",
       "Бренд 56     98   162\n",
       "Бренд 20     12   138\n",
       "Бренд 6     179   113\n",
       "Бренд 3     100   112\n",
       "Бренд 11     66   108\n",
       "Бренд 7      33   101\n",
       "Бренд 17    136    98\n",
       "Бренд 14     50    90\n",
       "Бренд 23     51    81\n",
       "Бренд 90     98    74\n",
       "Бренд 5      81    70\n",
       "Бренд 61    101    62\n",
       "Бренд 33     83    61\n",
       "Бренд 25    105    46\n",
       "Бренд 88     24    29\n",
       "Бренд 52     61    24\n",
       "Бренд 28     25    17\n",
       "Бренд 91     34    11\n",
       "Бренд 9      30     8"
      ]
     },
     "execution_count": 14,
     "metadata": {},
     "output_type": "execute_result"
    }
   ],
   "source": [
    "efficency.groupby('Бренд')['общая_полезность_разность'].agg(['count', 'sum']).sort_values(by='sum', ascending=False)"
   ]
  },
  {
   "cell_type": "markdown",
   "id": "e1dec484",
   "metadata": {},
   "source": [
    "### Топ артикулов"
   ]
  },
  {
   "cell_type": "code",
   "execution_count": 15,
   "id": "8099f65c",
   "metadata": {},
   "outputs": [
    {
     "data": {
      "text/html": [
       "<div>\n",
       "<style scoped>\n",
       "    .dataframe tbody tr th:only-of-type {\n",
       "        vertical-align: middle;\n",
       "    }\n",
       "\n",
       "    .dataframe tbody tr th {\n",
       "        vertical-align: top;\n",
       "    }\n",
       "\n",
       "    .dataframe thead th {\n",
       "        text-align: right;\n",
       "    }\n",
       "</style>\n",
       "<table border=\"1\" class=\"dataframe\">\n",
       "  <thead>\n",
       "    <tr style=\"text-align: right;\">\n",
       "      <th></th>\n",
       "      <th>count</th>\n",
       "      <th>sum</th>\n",
       "    </tr>\n",
       "    <tr>\n",
       "      <th>Номенклатура</th>\n",
       "      <th></th>\n",
       "      <th></th>\n",
       "    </tr>\n",
       "  </thead>\n",
       "  <tbody>\n",
       "    <tr>\n",
       "      <th>Артикул 64</th>\n",
       "      <td>87</td>\n",
       "      <td>28</td>\n",
       "    </tr>\n",
       "    <tr>\n",
       "      <th>Артикул 347</th>\n",
       "      <td>69</td>\n",
       "      <td>120</td>\n",
       "    </tr>\n",
       "    <tr>\n",
       "      <th>Артикул 752</th>\n",
       "      <td>67</td>\n",
       "      <td>71</td>\n",
       "    </tr>\n",
       "    <tr>\n",
       "      <th>Артикул 217</th>\n",
       "      <td>31</td>\n",
       "      <td>46</td>\n",
       "    </tr>\n",
       "    <tr>\n",
       "      <th>Артикул 385</th>\n",
       "      <td>26</td>\n",
       "      <td>26</td>\n",
       "    </tr>\n",
       "    <tr>\n",
       "      <th>...</th>\n",
       "      <td>...</td>\n",
       "      <td>...</td>\n",
       "    </tr>\n",
       "    <tr>\n",
       "      <th>Артикул 3246</th>\n",
       "      <td>3</td>\n",
       "      <td>0</td>\n",
       "    </tr>\n",
       "    <tr>\n",
       "      <th>Артикул 1954</th>\n",
       "      <td>3</td>\n",
       "      <td>9</td>\n",
       "    </tr>\n",
       "    <tr>\n",
       "      <th>Артикул 3242</th>\n",
       "      <td>3</td>\n",
       "      <td>8</td>\n",
       "    </tr>\n",
       "    <tr>\n",
       "      <th>Артикул 324</th>\n",
       "      <td>3</td>\n",
       "      <td>2</td>\n",
       "    </tr>\n",
       "    <tr>\n",
       "      <th>Артикул 1005</th>\n",
       "      <td>3</td>\n",
       "      <td>31</td>\n",
       "    </tr>\n",
       "  </tbody>\n",
       "</table>\n",
       "<p>824 rows × 2 columns</p>\n",
       "</div>"
      ],
      "text/plain": [
       "              count  sum\n",
       "Номенклатура            \n",
       "Артикул 64       87   28\n",
       "Артикул 347      69  120\n",
       "Артикул 752      67   71\n",
       "Артикул 217      31   46\n",
       "Артикул 385      26   26\n",
       "...             ...  ...\n",
       "Артикул 3246      3    0\n",
       "Артикул 1954      3    9\n",
       "Артикул 3242      3    8\n",
       "Артикул 324       3    2\n",
       "Артикул 1005      3   31\n",
       "\n",
       "[824 rows x 2 columns]"
      ]
     },
     "execution_count": 15,
     "metadata": {},
     "output_type": "execute_result"
    }
   ],
   "source": [
    "efficency.groupby('Номенклатура')['общая_полезность_разность'].agg(['count', 'sum']).sort_values(by='count', ascending=False)"
   ]
  },
  {
   "cell_type": "markdown",
   "id": "f4a84988",
   "metadata": {},
   "source": [
    "### Количество звезд у коментариев"
   ]
  },
  {
   "cell_type": "code",
   "execution_count": 16,
   "id": "90e05396",
   "metadata": {},
   "outputs": [
    {
     "data": {
      "text/html": [
       "<div>\n",
       "<style scoped>\n",
       "    .dataframe tbody tr th:only-of-type {\n",
       "        vertical-align: middle;\n",
       "    }\n",
       "\n",
       "    .dataframe tbody tr th {\n",
       "        vertical-align: top;\n",
       "    }\n",
       "\n",
       "    .dataframe thead th {\n",
       "        text-align: right;\n",
       "    }\n",
       "</style>\n",
       "<table border=\"1\" class=\"dataframe\">\n",
       "  <thead>\n",
       "    <tr style=\"text-align: right;\">\n",
       "      <th></th>\n",
       "      <th>Количество</th>\n",
       "    </tr>\n",
       "    <tr>\n",
       "      <th>Количество звезд</th>\n",
       "      <th></th>\n",
       "    </tr>\n",
       "  </thead>\n",
       "  <tbody>\n",
       "    <tr>\n",
       "      <th>1</th>\n",
       "      <td>249</td>\n",
       "    </tr>\n",
       "    <tr>\n",
       "      <th>2</th>\n",
       "      <td>96</td>\n",
       "    </tr>\n",
       "    <tr>\n",
       "      <th>3</th>\n",
       "      <td>166</td>\n",
       "    </tr>\n",
       "    <tr>\n",
       "      <th>4</th>\n",
       "      <td>296</td>\n",
       "    </tr>\n",
       "    <tr>\n",
       "      <th>5</th>\n",
       "      <td>3118</td>\n",
       "    </tr>\n",
       "  </tbody>\n",
       "</table>\n",
       "</div>"
      ],
      "text/plain": [
       "                  Количество\n",
       "Количество звезд            \n",
       "1                        249\n",
       "2                         96\n",
       "3                        166\n",
       "4                        296\n",
       "5                       3118"
      ]
     },
     "execution_count": 16,
     "metadata": {},
     "output_type": "execute_result"
    }
   ],
   "source": [
    "number_stars = pd.DataFrame(data.groupby('Количество звезд')['Текст отзыва'].agg('count'))\n",
    "number_stars.columns = ['Количество']\n",
    "number_stars"
   ]
  },
  {
   "cell_type": "markdown",
   "id": "19fa38f3",
   "metadata": {},
   "source": [
    "## Top20 отзывов"
   ]
  },
  {
   "cell_type": "code",
   "execution_count": 17,
   "id": "e4eaf4d5",
   "metadata": {},
   "outputs": [],
   "source": [
    "top20 = data['Номенклатура'].value_counts().sort_values(ascending=False).head(20)"
   ]
  },
  {
   "cell_type": "code",
   "execution_count": 18,
   "id": "ea5e114b",
   "metadata": {},
   "outputs": [
    {
     "data": {
      "text/plain": [
       "Артикул 64      87\n",
       "Артикул 347     69\n",
       "Артикул 752     67\n",
       "Артикул 217     31\n",
       "Артикул 385     26\n",
       "Артикул 697     25\n",
       "Артикул 31      21\n",
       "Артикул 28      20\n",
       "Артикул 693     18\n",
       "Артикул 378     17\n",
       "Артикул 1377    16\n",
       "Артикул 288     15\n",
       "Артикул 1415    15\n",
       "Артикул 1229    14\n",
       "Артикул 451     14\n",
       "Артикул 320     14\n",
       "Артикул 237     13\n",
       "Артикул 903     12\n",
       "Артикул 419     12\n",
       "Артикул 84      11\n",
       "Name: Номенклатура, dtype: int64"
      ]
     },
     "execution_count": 18,
     "metadata": {},
     "output_type": "execute_result"
    }
   ],
   "source": [
    "top20"
   ]
  },
  {
   "cell_type": "code",
   "execution_count": 19,
   "id": "43c70d08",
   "metadata": {},
   "outputs": [
    {
     "data": {
      "text/plain": [
       "87                                                                                Очень хороший, станочек! У меня уже второй!\n",
       "69                                                                                                     Спасибо производителю!\n",
       "67                                                   Отличная пряжа! Без узелков, все как всегда в ней, полностью устраивает!\n",
       "31    очень расстроена, ножки-основания не подходят друг другу по толщине, как писала выше девушка, тот же брак.\\nпридется...\n",
       "26    Пряжа хорошая. Но после ручной стирки связанное изделие очень сильно растягивается. Чтобы осталось нужного размера н...\n",
       "25    Увидела этот продукт в инстаграме магазина почитала отзывы и решила заказать. Все пришло хорошо запакованное целое, ...\n",
       "21                                           Очень качественное изделие, аккуратно исполнены все детали, прочное и устойчивое\n",
       "20    Вышивка не плохая, бисер не самого высокого качества, но смотрится не плохо. Снимаю одну звезду за то что не хватило...\n",
       "18                                                                                          спасибо вам большое все отлично 👍\n",
       "17                                                                                 Супер! Доставка быстрая! Супруга довольна.\n",
       "16                               Пряжа понравилась, цвет чайной розы. Упаковки пришли все по 5 шт. Выкупила всё, что заказала\n",
       "15                                                                       Пришли всем 5 шт. Цвет красивый 212. И цена 290 руб.\n",
       "15                                                                       Пришли всем 5 шт. Цвет красивый 212. И цена 290 руб.\n",
       "14                                                                                            Всё пришло в отличном состоянии\n",
       "14                                                                                            Всё пришло в отличном состоянии\n",
       "14                                                                                            Всё пришло в отличном состоянии\n",
       "13                                                                                                            Удобный станок.\n",
       "12    Станок для вышивания очень хороший! Довольна покупкой! Качество древесины, простая понятная схема сборки, надёжная у...\n",
       "12    Станок для вышивания очень хороший! Довольна покупкой! Качество древесины, простая понятная схема сборки, надёжная у...\n",
       "11    Пряжа шикарная, очень мягкая, абсолютно не колется. Расход пряжи маленький, 6 мотков хватило на пуловер 46-го размер...\n",
       "Name: Текст отзыва, dtype: object"
      ]
     },
     "execution_count": 19,
     "metadata": {},
     "output_type": "execute_result"
    }
   ],
   "source": [
    "data.loc[top20]['Текст отзыва']"
   ]
  },
  {
   "cell_type": "code",
   "execution_count": 20,
   "id": "dfe6f5d3",
   "metadata": {},
   "outputs": [],
   "source": [
    "data['Текст отзыва'] = data['Текст отзыва'].str.replace('\\n', ' ')"
   ]
  },
  {
   "cell_type": "markdown",
   "id": "ca7c7e74",
   "metadata": {},
   "source": [
    "### Создаем новые признаки длина комментариев и кол-во слов"
   ]
  },
  {
   "cell_type": "code",
   "execution_count": 21,
   "id": "cba7fb65",
   "metadata": {},
   "outputs": [],
   "source": [
    "data['первый_отзыв'] = data. \\\n",
    "            groupby('ID отзыва')['Дата'].transform('min')"
   ]
  },
  {
   "cell_type": "code",
   "execution_count": 22,
   "id": "83560315",
   "metadata": {},
   "outputs": [
    {
     "data": {
      "text/html": [
       "<div>\n",
       "<style scoped>\n",
       "    .dataframe tbody tr th:only-of-type {\n",
       "        vertical-align: middle;\n",
       "    }\n",
       "\n",
       "    .dataframe tbody tr th {\n",
       "        vertical-align: top;\n",
       "    }\n",
       "\n",
       "    .dataframe thead th {\n",
       "        text-align: right;\n",
       "    }\n",
       "</style>\n",
       "<table border=\"1\" class=\"dataframe\">\n",
       "  <thead>\n",
       "    <tr style=\"text-align: right;\">\n",
       "      <th></th>\n",
       "      <th>ID отзыва</th>\n",
       "      <th>Дата</th>\n",
       "      <th>Номенклатура</th>\n",
       "      <th>Количество звезд</th>\n",
       "      <th>Бренд</th>\n",
       "      <th>Текст отзыва</th>\n",
       "      <th>Имя</th>\n",
       "      <th>Регион</th>\n",
       "      <th>Цвет</th>\n",
       "      <th>Размер</th>\n",
       "      <th>Полезность (количество минусов)</th>\n",
       "      <th>Полезность (количество плюсов)</th>\n",
       "      <th>общая_полезность_разность</th>\n",
       "      <th>общая_полезность</th>\n",
       "      <th>полезность_pct</th>\n",
       "      <th>первый_отзыв</th>\n",
       "    </tr>\n",
       "  </thead>\n",
       "  <tbody>\n",
       "    <tr>\n",
       "      <th>0</th>\n",
       "      <td>4.0</td>\n",
       "      <td>2021-11-06</td>\n",
       "      <td>Артикул 4</td>\n",
       "      <td>5</td>\n",
       "      <td>Бренд 4</td>\n",
       "      <td>Полный комплект, ниток достаточно, много осталось, вышивается легко, рекомендую к покупке. Добавлю фото других набор...</td>\n",
       "      <td>Ирина</td>\n",
       "      <td>RU</td>\n",
       "      <td>NaN</td>\n",
       "      <td>0</td>\n",
       "      <td>0</td>\n",
       "      <td>0</td>\n",
       "      <td>0</td>\n",
       "      <td>0</td>\n",
       "      <td>NaN</td>\n",
       "      <td>2021-11-06</td>\n",
       "    </tr>\n",
       "    <tr>\n",
       "      <th>1</th>\n",
       "      <td>7.0</td>\n",
       "      <td>2021-11-06</td>\n",
       "      <td>Артикул 7</td>\n",
       "      <td>5</td>\n",
       "      <td>Бренд 6</td>\n",
       "      <td>Очень понравился набор! Бисер качественный, остается много! Рекомендую!</td>\n",
       "      <td>Наталья</td>\n",
       "      <td>RU</td>\n",
       "      <td>белый</td>\n",
       "      <td>0</td>\n",
       "      <td>0</td>\n",
       "      <td>0</td>\n",
       "      <td>0</td>\n",
       "      <td>0</td>\n",
       "      <td>NaN</td>\n",
       "      <td>2021-11-06</td>\n",
       "    </tr>\n",
       "    <tr>\n",
       "      <th>2</th>\n",
       "      <td>8.0</td>\n",
       "      <td>2021-11-06</td>\n",
       "      <td>Артикул 8</td>\n",
       "      <td>5</td>\n",
       "      <td>Бренд 6</td>\n",
       "      <td>Очень красиво получилось</td>\n",
       "      <td>Наталья</td>\n",
       "      <td>RU</td>\n",
       "      <td>синий</td>\n",
       "      <td>0</td>\n",
       "      <td>0</td>\n",
       "      <td>0</td>\n",
       "      <td>0</td>\n",
       "      <td>0</td>\n",
       "      <td>NaN</td>\n",
       "      <td>2021-11-06</td>\n",
       "    </tr>\n",
       "    <tr>\n",
       "      <th>3</th>\n",
       "      <td>21.0</td>\n",
       "      <td>2021-11-05</td>\n",
       "      <td>Артикул 21</td>\n",
       "      <td>5</td>\n",
       "      <td>Бренд 2</td>\n",
       "      <td>Набор полный, целый, восхитительный! Открываешь коробочку, а в ней солнце, тепло, блеск, игра бисера! Превосходный н...</td>\n",
       "      <td>Маргарита</td>\n",
       "      <td>RU</td>\n",
       "      <td>белый</td>\n",
       "      <td>0</td>\n",
       "      <td>0</td>\n",
       "      <td>0</td>\n",
       "      <td>0</td>\n",
       "      <td>0</td>\n",
       "      <td>NaN</td>\n",
       "      <td>2021-11-05</td>\n",
       "    </tr>\n",
       "    <tr>\n",
       "      <th>4</th>\n",
       "      <td>23.0</td>\n",
       "      <td>2021-11-05</td>\n",
       "      <td>Артикул 23</td>\n",
       "      <td>5</td>\n",
       "      <td>Бренд 14</td>\n",
       "      <td>Заказывала серый сероголубой, пришел  синий васильковый, даже не распаковала., отказ, жаль потраченное время.</td>\n",
       "      <td>Ирина</td>\n",
       "      <td>RU</td>\n",
       "      <td>серо-голубой, голубой</td>\n",
       "      <td>0</td>\n",
       "      <td>0</td>\n",
       "      <td>0</td>\n",
       "      <td>0</td>\n",
       "      <td>0</td>\n",
       "      <td>NaN</td>\n",
       "      <td>2021-11-05</td>\n",
       "    </tr>\n",
       "    <tr>\n",
       "      <th>...</th>\n",
       "      <td>...</td>\n",
       "      <td>...</td>\n",
       "      <td>...</td>\n",
       "      <td>...</td>\n",
       "      <td>...</td>\n",
       "      <td>...</td>\n",
       "      <td>...</td>\n",
       "      <td>...</td>\n",
       "      <td>...</td>\n",
       "      <td>...</td>\n",
       "      <td>...</td>\n",
       "      <td>...</td>\n",
       "      <td>...</td>\n",
       "      <td>...</td>\n",
       "      <td>...</td>\n",
       "      <td>...</td>\n",
       "    </tr>\n",
       "    <tr>\n",
       "      <th>3920</th>\n",
       "      <td>9993.0</td>\n",
       "      <td>2020-08-05</td>\n",
       "      <td>Артикул 3108</td>\n",
       "      <td>5</td>\n",
       "      <td>Бренд 10</td>\n",
       "      <td>Цвет не серо -голубой,а ближе к серо -зеленому .</td>\n",
       "      <td>Ирина</td>\n",
       "      <td>RU</td>\n",
       "      <td>серо-голубой</td>\n",
       "      <td>0</td>\n",
       "      <td>1</td>\n",
       "      <td>3</td>\n",
       "      <td>2</td>\n",
       "      <td>4</td>\n",
       "      <td>50.0</td>\n",
       "      <td>2020-08-05</td>\n",
       "    </tr>\n",
       "    <tr>\n",
       "      <th>3921</th>\n",
       "      <td>9994.0</td>\n",
       "      <td>2020-08-05</td>\n",
       "      <td>Артикул 475</td>\n",
       "      <td>5</td>\n",
       "      <td>Бренд 53</td>\n",
       "      <td>Пришел быстро. Не вскрытый. Брала за 1192 рубля. Дешевле чем в закупках вк.</td>\n",
       "      <td>Наталья</td>\n",
       "      <td>RU</td>\n",
       "      <td>горчичный</td>\n",
       "      <td>0</td>\n",
       "      <td>2</td>\n",
       "      <td>6</td>\n",
       "      <td>4</td>\n",
       "      <td>8</td>\n",
       "      <td>50.0</td>\n",
       "      <td>2020-08-05</td>\n",
       "    </tr>\n",
       "    <tr>\n",
       "      <th>3922</th>\n",
       "      <td>9995.0</td>\n",
       "      <td>2020-08-05</td>\n",
       "      <td>Артикул 3388</td>\n",
       "      <td>5</td>\n",
       "      <td>Бренд 10</td>\n",
       "      <td>Цвет немного отличается, больше с фиолетовым оттенком, плюс белые шерстинки придают более бледный вид. А так пряжа м...</td>\n",
       "      <td>Инна</td>\n",
       "      <td>RU</td>\n",
       "      <td>пурпурный</td>\n",
       "      <td>0</td>\n",
       "      <td>0</td>\n",
       "      <td>6</td>\n",
       "      <td>6</td>\n",
       "      <td>6</td>\n",
       "      <td>100.0</td>\n",
       "      <td>2020-08-05</td>\n",
       "    </tr>\n",
       "    <tr>\n",
       "      <th>3923</th>\n",
       "      <td>9998.0</td>\n",
       "      <td>2020-08-04</td>\n",
       "      <td>Артикул 879</td>\n",
       "      <td>5</td>\n",
       "      <td>Бренд 8</td>\n",
       "      <td>Класс очень красиво</td>\n",
       "      <td>Елена</td>\n",
       "      <td>RU</td>\n",
       "      <td>белый</td>\n",
       "      <td>0</td>\n",
       "      <td>0</td>\n",
       "      <td>0</td>\n",
       "      <td>0</td>\n",
       "      <td>0</td>\n",
       "      <td>NaN</td>\n",
       "      <td>2020-08-04</td>\n",
       "    </tr>\n",
       "    <tr>\n",
       "      <th>3924</th>\n",
       "      <td>9999.0</td>\n",
       "      <td>2020-08-04</td>\n",
       "      <td>Артикул 879</td>\n",
       "      <td>5</td>\n",
       "      <td>Бренд 8</td>\n",
       "      <td>Просто супер, очень красивая вышивка, буду еще заказывать</td>\n",
       "      <td>Елена</td>\n",
       "      <td>RU</td>\n",
       "      <td>белый</td>\n",
       "      <td>0</td>\n",
       "      <td>0</td>\n",
       "      <td>0</td>\n",
       "      <td>0</td>\n",
       "      <td>0</td>\n",
       "      <td>NaN</td>\n",
       "      <td>2020-08-04</td>\n",
       "    </tr>\n",
       "  </tbody>\n",
       "</table>\n",
       "<p>3925 rows × 16 columns</p>\n",
       "</div>"
      ],
      "text/plain": [
       "      ID отзыва       Дата  Номенклатура  Количество звезд     Бренд                                                                                                             Текст отзыва        Имя Регион                   Цвет Размер  Полезность (количество минусов)  Полезность (количество плюсов)  общая_полезность_разность  общая_полезность  полезность_pct первый_отзыв\n",
       "0           4.0 2021-11-06     Артикул 4                 5   Бренд 4  Полный комплект, ниток достаточно, много осталось, вышивается легко, рекомендую к покупке. Добавлю фото других набор...      Ирина     RU                    NaN      0                                0                               0                          0                 0             NaN   2021-11-06\n",
       "1           7.0 2021-11-06     Артикул 7                 5   Бренд 6                                                  Очень понравился набор! Бисер качественный, остается много! Рекомендую!    Наталья     RU                  белый      0                                0                               0                          0                 0             NaN   2021-11-06\n",
       "2           8.0 2021-11-06     Артикул 8                 5   Бренд 6                                                                                                 Очень красиво получилось    Наталья     RU                  синий      0                                0                               0                          0                 0             NaN   2021-11-06\n",
       "3          21.0 2021-11-05    Артикул 21                 5   Бренд 2  Набор полный, целый, восхитительный! Открываешь коробочку, а в ней солнце, тепло, блеск, игра бисера! Превосходный н...  Маргарита     RU                  белый      0                                0                               0                          0                 0             NaN   2021-11-05\n",
       "4          23.0 2021-11-05    Артикул 23                 5  Бренд 14            Заказывала серый сероголубой, пришел  синий васильковый, даже не распаковала., отказ, жаль потраченное время.      Ирина     RU  серо-голубой, голубой      0                                0                               0                          0                 0             NaN   2021-11-05\n",
       "...         ...        ...           ...               ...       ...                                                                                                                      ...        ...    ...                    ...    ...                              ...                             ...                        ...               ...             ...          ...\n",
       "3920     9993.0 2020-08-05  Артикул 3108                 5  Бренд 10                                                                         Цвет не серо -голубой,а ближе к серо -зеленому .      Ирина     RU           серо-голубой      0                                1                               3                          2                 4            50.0   2020-08-05\n",
       "3921     9994.0 2020-08-05   Артикул 475                 5  Бренд 53                                              Пришел быстро. Не вскрытый. Брала за 1192 рубля. Дешевле чем в закупках вк.    Наталья     RU              горчичный      0                                2                               6                          4                 8            50.0   2020-08-05\n",
       "3922     9995.0 2020-08-05  Артикул 3388                 5  Бренд 10  Цвет немного отличается, больше с фиолетовым оттенком, плюс белые шерстинки придают более бледный вид. А так пряжа м...       Инна     RU              пурпурный      0                                0                               6                          6                 6           100.0   2020-08-05\n",
       "3923     9998.0 2020-08-04   Артикул 879                 5   Бренд 8                                                                                                      Класс очень красиво      Елена     RU                  белый      0                                0                               0                          0                 0             NaN   2020-08-04\n",
       "3924     9999.0 2020-08-04   Артикул 879                 5   Бренд 8                                                                Просто супер, очень красивая вышивка, буду еще заказывать      Елена     RU                  белый      0                                0                               0                          0                 0             NaN   2020-08-04\n",
       "\n",
       "[3925 rows x 16 columns]"
      ]
     },
     "execution_count": 22,
     "metadata": {},
     "output_type": "execute_result"
    }
   ],
   "source": [
    "data"
   ]
  },
  {
   "cell_type": "code",
   "execution_count": 23,
   "id": "6980607d",
   "metadata": {},
   "outputs": [],
   "source": [
    "def words_count(text):\n",
    "    result = len(text.split())\n",
    "    return result"
   ]
  },
  {
   "cell_type": "code",
   "execution_count": 24,
   "id": "66231e4d",
   "metadata": {},
   "outputs": [],
   "source": [
    "data['words_count'] = data['Текст отзыва'].apply(words_count)"
   ]
  },
  {
   "cell_type": "code",
   "execution_count": 25,
   "id": "d9ac1770",
   "metadata": {},
   "outputs": [
    {
     "data": {
      "image/png": "[encoded data removed]",
      "text/plain": [
       "<Figure size 1152x432 with 1 Axes>"
      ]
     },
     "metadata": {
      "needs_background": "light"
     },
     "output_type": "display_data"
    }
   ],
   "source": [
    "data['words_count'].hist(bins=30, figsize=(16,6))\n",
    "plt.title('Распределение количества слов')\n",
    "plt.show()"
   ]
  },
  {
   "cell_type": "code",
   "execution_count": 26,
   "id": "666286f3",
   "metadata": {},
   "outputs": [],
   "source": [
    "data = data.sort_values(by='первый_отзыв', ascending=True)"
   ]
  },
  {
   "cell_type": "code",
   "execution_count": 27,
   "id": "d1b008d1",
   "metadata": {},
   "outputs": [
    {
     "data": {
      "text/plain": [
       "<AxesSubplot:xlabel='первый_отзыв'>"
      ]
     },
     "execution_count": 27,
     "metadata": {},
     "output_type": "execute_result"
    },
    {
     "data": {
      "image/png": "[encoded data removed]",
      "text/plain": [
       "<Figure size 1152x432 with 1 Axes>"
      ]
     },
     "metadata": {
      "needs_background": "light"
     },
     "output_type": "display_data"
    }
   ],
   "source": [
    "data.plot(kind='line', x='первый_отзыв', y='words_count', figsize=(16,6))"
   ]
  },
  {
   "cell_type": "code",
   "execution_count": 28,
   "id": "cc532eea",
   "metadata": {
    "scrolled": true
   },
   "outputs": [
    {
     "data": {
      "text/plain": [
       "<AxesSubplot:>"
      ]
     },
     "execution_count": 28,
     "metadata": {},
     "output_type": "execute_result"
    },
    {
     "data": {
      "image/png": "[encoded data removed]",
      "text/plain": [
       "<Figure size 432x288 with 1 Axes>"
      ]
     },
     "metadata": {
      "needs_background": "light"
     },
     "output_type": "display_data"
    }
   ],
   "source": [
    "data['words_count'].plot(kind='box')"
   ]
  },
  {
   "cell_type": "code",
   "execution_count": 29,
   "id": "175403f4",
   "metadata": {},
   "outputs": [
    {
     "data": {
      "text/plain": [
       "3919    Вышивается очень быстро! Фото не передает всего великолепия готовой работы. Икона светится изнутри , переливается и ...\n",
       "3910    Я новичок в вязании, поэтому что-то серьезнее шарфиков мне пока страшно начинать. Пряжа сперва понравилась по цвету,...\n",
       "3898    Пишу спустя неделю после покупки. Это мой первый опыт работы с бисером, поначалу была  шоке, но глаза боятся, а руки...\n",
       "3879    Позорище! Больше никак не могу охарактеризовать данный набор. Откуда такая цена? За кусочек ткани с нанесенным ликом...\n",
       "3855    И я присоединюсь к довольным покупателям. Пряжу просто из рук не хочется выпускать. Заказала 2 цвета - изумруд и сер...\n",
       "                                                                 ...                                                           \n",
       "460     В целом хорошая рама, клипсы держатся хуже, чем на раме, купленной 4 года назад со станком Иволга. Не знаю, с чем св...\n",
       "332     Потрясающая пряжа. Приехал полный комплект, аккуратно упакован в зип-лок и дополнительно заклеен бумажным стикером. ...\n",
       "173     \"Серёга, ты реально - МАСТЕР\"!  Собрала без чьей либо помощи за 10 минут. Просто потому, что получала удовольствие о...\n",
       "132     Долго была в раздумьях какой заказать. Станок супер, начиная от упаковки, деталей, обработанных идеально, гладкие, п...\n",
       "19      Это ужас ужасный!!!!! Заказала второй раз пряжу от этого производителя, так ждала, а в итоге... Пришла не пряжа в 5 ...\n",
       "Name: Текст отзыва, Length: 131, dtype: object"
      ]
     },
     "execution_count": 29,
     "metadata": {},
     "output_type": "execute_result"
    }
   ],
   "source": [
    "data[data['words_count'] > 60]['Текст отзыва']"
   ]
  },
  {
   "cell_type": "code",
   "execution_count": 30,
   "id": "6c9b14c0",
   "metadata": {},
   "outputs": [],
   "source": [
    "def findLen(str):\n",
    "    counter = 0\n",
    "    while str[counter:]:\n",
    "        counter += 1\n",
    "    return counter"
   ]
  },
  {
   "cell_type": "code",
   "execution_count": 31,
   "id": "f6d0b589",
   "metadata": {},
   "outputs": [],
   "source": [
    "data['lenght_com'] = data['Текст отзыва'].apply(findLen)"
   ]
  },
  {
   "cell_type": "code",
   "execution_count": 32,
   "id": "29109eaf",
   "metadata": {
    "scrolled": false
   },
   "outputs": [
    {
     "data": {
      "text/plain": [
       "<AxesSubplot:>"
      ]
     },
     "execution_count": 32,
     "metadata": {},
     "output_type": "execute_result"
    },
    {
     "data": {
      "image/png": "[encoded data removed]",
      "text/plain": [
       "<Figure size 432x288 with 1 Axes>"
      ]
     },
     "metadata": {
      "needs_background": "light"
     },
     "output_type": "display_data"
    }
   ],
   "source": [
    "data['lenght_com'].plot(kind='box')\n"
   ]
  },
  {
   "cell_type": "code",
   "execution_count": 33,
   "id": "f7ff5a8d",
   "metadata": {
    "scrolled": true
   },
   "outputs": [
    {
     "data": {
      "text/plain": [
       "3919    Вышивается очень быстро! Фото не передает всего великолепия готовой работы. Икона светится изнутри , переливается и ...\n",
       "3910    Я новичок в вязании, поэтому что-то серьезнее шарфиков мне пока страшно начинать. Пряжа сперва понравилась по цвету,...\n",
       "3898    Пишу спустя неделю после покупки. Это мой первый опыт работы с бисером, поначалу была  шоке, но глаза боятся, а руки...\n",
       "3879    Позорище! Больше никак не могу охарактеризовать данный набор. Откуда такая цена? За кусочек ткани с нанесенным ликом...\n",
       "3855    И я присоединюсь к довольным покупателям. Пряжу просто из рук не хочется выпускать. Заказала 2 цвета - изумруд и сер...\n",
       "                                                                 ...                                                           \n",
       "258     Получила приправу 22.09.2021г, вскрыла упаковку и только потом посмотрела на срок годности😞дата изготовления 25.12.2...\n",
       "173     \"Серёга, ты реально - МАСТЕР\"!  Собрала без чьей либо помощи за 10 минут. Просто потому, что получала удовольствие о...\n",
       "132     Долго была в раздумьях какой заказать. Станок супер, начиная от упаковки, деталей, обработанных идеально, гладкие, п...\n",
       "76      Набор классный,всё как в описании. Не первый раз покупаю наборы для вышивки фирмы радуга бисера. Весь набор пришёл б...\n",
       "19      Это ужас ужасный!!!!! Заказала второй раз пряжу от этого производителя, так ждала, а в итоге... Пришла не пряжа в 5 ...\n",
       "Name: Текст отзыва, Length: 130, dtype: object"
      ]
     },
     "execution_count": 33,
     "metadata": {},
     "output_type": "execute_result"
    }
   ],
   "source": [
    "data[data['lenght_com'] > 400]['Текст отзыва']"
   ]
  },
  {
   "cell_type": "code",
   "execution_count": 34,
   "id": "ec04c081",
   "metadata": {},
   "outputs": [
    {
     "data": {
      "text/plain": [
       "3861    Заказала набор. В итоге пришёл бисер, но без холста. Оформила возврат по браку, заявку одобрили. Деньги вернули. Спа...\n",
       "3779                                                                   Вместо розового пришёл какой то красный поэтому возврат!\n",
       "3698    Заказала 4 упаковки этой пряжи. Пришла получать. Три упаковки по 3 моточка, как и положено, а в 4 всего один моточек...\n",
       "3624    Добрый день!  Он изумительный! Не очень тонкий, но уже каменного. Все грани ровные, удобный, форма идеальная. До это...\n",
       "3572    Заказала 7 комплектов по 3 шт. В итоге пришли 5 комплектов пришли из одной партии, оставшиеся 2 пришли ещё из двух р...\n",
       "                                                                 ...                                                           \n",
       "195                                                   пришел товар другого цвета, жду одобрения возврата,а это время и ожидание\n",
       "134     Пришла партия другого цвета, которая дешевле заказанной, но деньги взяли как за более дорогой товар. Вот и думай: то...\n",
       "127     К качеству притензтий нет,это третьи мои пяльцы фирмы Арабеска и они мне  очень нравятся,но пришлось делать возврат,...\n",
       "118     До этого заказывала все приходило хорошо, а сегодня дома увидела, что рама то не та! Возврат оформить не получается,...\n",
       "101     Безобразие я в шоке от вашей работы. Заказала первый раз пришли четыре мотка вместо пяти. Сделала возврат. В этот де...\n",
       "Name: Текст отзыва, Length: 71, dtype: object"
      ]
     },
     "execution_count": 34,
     "metadata": {},
     "output_type": "execute_result"
    }
   ],
   "source": [
    "data[data['Текст отзыва'].str.contains(\"возврат\")]['Текст отзыва']"
   ]
  },
  {
   "cell_type": "code",
   "execution_count": 35,
   "id": "e63b6f9e",
   "metadata": {},
   "outputs": [
    {
     "data": {
      "text/plain": [
       "3905    Я довольна качеством! Был раньше из оникса и разбился, решила купить не убиваемый. Он немного точне и массаж получае...\n",
       "3793                                                                            Отличное качество. Цвет полностью соответствует\n",
       "3783    Из натуральных камней только гематит размером с бисер. Вышивается легко, все понятно. Упакован набор в подарочный па...\n",
       "3759                                                                               Спасибо производителю за качество и красоту!\n",
       "3742    Пряжа супер, мягкая, лёгкая, не колючая,без узелков, слабый запах шерсти присутствует. Второе фото, с официального с...\n",
       "                                                                 ...                                                           \n",
       "186                                                                Отличное качество и приемлемая цена.Рекомендую рукодельницам\n",
       "173     \"Серёга, ты реально - МАСТЕР\"!  Собрала без чьей либо помощи за 10 минут. Просто потому, что получала удовольствие о...\n",
       "162                                                                                       Цвет соответствует, качество отличное\n",
       "125     Размер заказала 30 на 56 , а пришел 30 на 48  но отказываться не стала качество отличное порадовали. Цена в размерах...\n",
       "106                                                                                                            Хорошее качество\n",
       "Name: Текст отзыва, Length: 145, dtype: object"
      ]
     },
     "execution_count": 35,
     "metadata": {},
     "output_type": "execute_result"
    }
   ],
   "source": [
    "data[data['Текст отзыва'].str.contains(\"качество\")]['Текст отзыва']"
   ]
  },
  {
   "cell_type": "code",
   "execution_count": 36,
   "id": "6be808c7",
   "metadata": {
    "scrolled": true
   },
   "outputs": [],
   "source": [
    "data['Размер'] = data['Размер'].str.lower().value_counts()"
   ]
  },
  {
   "cell_type": "code",
   "execution_count": 37,
   "id": "7e20c496",
   "metadata": {
    "scrolled": true
   },
   "outputs": [
    {
     "data": {
      "text/html": [
       "<style type=\"text/css\">\n",
       "#T_dfe56_row0_col0, #T_dfe56_row1_col1, #T_dfe56_row3_col3, #T_dfe56_row4_col4, #T_dfe56_row5_col5, #T_dfe56_row6_col6, #T_dfe56_row7_col7, #T_dfe56_row8_col8, #T_dfe56_row9_col9 {\n",
       "  background-color: yellowgreen;\n",
       "  background-color: coral;\n",
       "}\n",
       "#T_dfe56_row0_col2, #T_dfe56_row1_col2, #T_dfe56_row2_col0, #T_dfe56_row2_col1, #T_dfe56_row2_col2, #T_dfe56_row2_col3, #T_dfe56_row2_col4, #T_dfe56_row2_col5, #T_dfe56_row2_col6, #T_dfe56_row2_col7, #T_dfe56_row2_col8, #T_dfe56_row2_col9, #T_dfe56_row3_col2, #T_dfe56_row4_col2, #T_dfe56_row5_col2, #T_dfe56_row6_col2, #T_dfe56_row7_col2, #T_dfe56_row8_col2, #T_dfe56_row9_col2 {\n",
       "  background-color: lightgrey;\n",
       "}\n",
       "#T_dfe56_row4_col5, #T_dfe56_row4_col6, #T_dfe56_row5_col4, #T_dfe56_row5_col6, #T_dfe56_row6_col4, #T_dfe56_row6_col5, #T_dfe56_row8_col9, #T_dfe56_row9_col8 {\n",
       "  background-color: yellowgreen;\n",
       "}\n",
       "</style>\n",
       "<table id=\"T_dfe56\">\n",
       "  <thead>\n",
       "    <tr>\n",
       "      <th class=\"blank level0\" >&nbsp;</th>\n",
       "      <th id=\"T_dfe56_level0_col0\" class=\"col_heading level0 col0\" >ID отзыва</th>\n",
       "      <th id=\"T_dfe56_level0_col1\" class=\"col_heading level0 col1\" >Количество звезд</th>\n",
       "      <th id=\"T_dfe56_level0_col2\" class=\"col_heading level0 col2\" >Размер</th>\n",
       "      <th id=\"T_dfe56_level0_col3\" class=\"col_heading level0 col3\" >Полезность (количество минусов)</th>\n",
       "      <th id=\"T_dfe56_level0_col4\" class=\"col_heading level0 col4\" >Полезность (количество плюсов)</th>\n",
       "      <th id=\"T_dfe56_level0_col5\" class=\"col_heading level0 col5\" >общая_полезность_разность</th>\n",
       "      <th id=\"T_dfe56_level0_col6\" class=\"col_heading level0 col6\" >общая_полезность</th>\n",
       "      <th id=\"T_dfe56_level0_col7\" class=\"col_heading level0 col7\" >полезность_pct</th>\n",
       "      <th id=\"T_dfe56_level0_col8\" class=\"col_heading level0 col8\" >words_count</th>\n",
       "      <th id=\"T_dfe56_level0_col9\" class=\"col_heading level0 col9\" >lenght_com</th>\n",
       "    </tr>\n",
       "  </thead>\n",
       "  <tbody>\n",
       "    <tr>\n",
       "      <th id=\"T_dfe56_level0_row0\" class=\"row_heading level0 row0\" >ID отзыва</th>\n",
       "      <td id=\"T_dfe56_row0_col0\" class=\"data row0 col0\" >1.000000</td>\n",
       "      <td id=\"T_dfe56_row0_col1\" class=\"data row0 col1\" >-0.001664</td>\n",
       "      <td id=\"T_dfe56_row0_col2\" class=\"data row0 col2\" >nan</td>\n",
       "      <td id=\"T_dfe56_row0_col3\" class=\"data row0 col3\" >0.107201</td>\n",
       "      <td id=\"T_dfe56_row0_col4\" class=\"data row0 col4\" >0.213130</td>\n",
       "      <td id=\"T_dfe56_row0_col5\" class=\"data row0 col5\" >0.193319</td>\n",
       "      <td id=\"T_dfe56_row0_col6\" class=\"data row0 col6\" >0.225080</td>\n",
       "      <td id=\"T_dfe56_row0_col7\" class=\"data row0 col7\" >0.027821</td>\n",
       "      <td id=\"T_dfe56_row0_col8\" class=\"data row0 col8\" >0.084295</td>\n",
       "      <td id=\"T_dfe56_row0_col9\" class=\"data row0 col9\" >0.081867</td>\n",
       "    </tr>\n",
       "    <tr>\n",
       "      <th id=\"T_dfe56_level0_row1\" class=\"row_heading level0 row1\" >Количество звезд</th>\n",
       "      <td id=\"T_dfe56_row1_col0\" class=\"data row1 col0\" >-0.001664</td>\n",
       "      <td id=\"T_dfe56_row1_col1\" class=\"data row1 col1\" >1.000000</td>\n",
       "      <td id=\"T_dfe56_row1_col2\" class=\"data row1 col2\" >nan</td>\n",
       "      <td id=\"T_dfe56_row1_col3\" class=\"data row1 col3\" >-0.201951</td>\n",
       "      <td id=\"T_dfe56_row1_col4\" class=\"data row1 col4\" >0.090309</td>\n",
       "      <td id=\"T_dfe56_row1_col5\" class=\"data row1 col5\" >0.128501</td>\n",
       "      <td id=\"T_dfe56_row1_col6\" class=\"data row1 col6\" >0.050504</td>\n",
       "      <td id=\"T_dfe56_row1_col7\" class=\"data row1 col7\" >0.330338</td>\n",
       "      <td id=\"T_dfe56_row1_col8\" class=\"data row1 col8\" >-0.095841</td>\n",
       "      <td id=\"T_dfe56_row1_col9\" class=\"data row1 col9\" >-0.084364</td>\n",
       "    </tr>\n",
       "    <tr>\n",
       "      <th id=\"T_dfe56_level0_row2\" class=\"row_heading level0 row2\" >Размер</th>\n",
       "      <td id=\"T_dfe56_row2_col0\" class=\"data row2 col0\" >nan</td>\n",
       "      <td id=\"T_dfe56_row2_col1\" class=\"data row2 col1\" >nan</td>\n",
       "      <td id=\"T_dfe56_row2_col2\" class=\"data row2 col2\" >nan</td>\n",
       "      <td id=\"T_dfe56_row2_col3\" class=\"data row2 col3\" >nan</td>\n",
       "      <td id=\"T_dfe56_row2_col4\" class=\"data row2 col4\" >nan</td>\n",
       "      <td id=\"T_dfe56_row2_col5\" class=\"data row2 col5\" >nan</td>\n",
       "      <td id=\"T_dfe56_row2_col6\" class=\"data row2 col6\" >nan</td>\n",
       "      <td id=\"T_dfe56_row2_col7\" class=\"data row2 col7\" >nan</td>\n",
       "      <td id=\"T_dfe56_row2_col8\" class=\"data row2 col8\" >nan</td>\n",
       "      <td id=\"T_dfe56_row2_col9\" class=\"data row2 col9\" >nan</td>\n",
       "    </tr>\n",
       "    <tr>\n",
       "      <th id=\"T_dfe56_level0_row3\" class=\"row_heading level0 row3\" >Полезность (количество минусов)</th>\n",
       "      <td id=\"T_dfe56_row3_col0\" class=\"data row3 col0\" >0.107201</td>\n",
       "      <td id=\"T_dfe56_row3_col1\" class=\"data row3 col1\" >-0.201951</td>\n",
       "      <td id=\"T_dfe56_row3_col2\" class=\"data row3 col2\" >nan</td>\n",
       "      <td id=\"T_dfe56_row3_col3\" class=\"data row3 col3\" >1.000000</td>\n",
       "      <td id=\"T_dfe56_row3_col4\" class=\"data row3 col4\" >0.103394</td>\n",
       "      <td id=\"T_dfe56_row3_col5\" class=\"data row3 col5\" >-0.084747</td>\n",
       "      <td id=\"T_dfe56_row3_col6\" class=\"data row3 col6\" >0.281139</td>\n",
       "      <td id=\"T_dfe56_row3_col7\" class=\"data row3 col7\" >-0.483807</td>\n",
       "      <td id=\"T_dfe56_row3_col8\" class=\"data row3 col8\" >0.074101</td>\n",
       "      <td id=\"T_dfe56_row3_col9\" class=\"data row3 col9\" >0.067666</td>\n",
       "    </tr>\n",
       "    <tr>\n",
       "      <th id=\"T_dfe56_level0_row4\" class=\"row_heading level0 row4\" >Полезность (количество плюсов)</th>\n",
       "      <td id=\"T_dfe56_row4_col0\" class=\"data row4 col0\" >0.213130</td>\n",
       "      <td id=\"T_dfe56_row4_col1\" class=\"data row4 col1\" >0.090309</td>\n",
       "      <td id=\"T_dfe56_row4_col2\" class=\"data row4 col2\" >nan</td>\n",
       "      <td id=\"T_dfe56_row4_col3\" class=\"data row4 col3\" >0.103394</td>\n",
       "      <td id=\"T_dfe56_row4_col4\" class=\"data row4 col4\" >1.000000</td>\n",
       "      <td id=\"T_dfe56_row4_col5\" class=\"data row4 col5\" >0.982300</td>\n",
       "      <td id=\"T_dfe56_row4_col6\" class=\"data row4 col6\" >0.983592</td>\n",
       "      <td id=\"T_dfe56_row4_col7\" class=\"data row4 col7\" >0.190522</td>\n",
       "      <td id=\"T_dfe56_row4_col8\" class=\"data row4 col8\" >0.215234</td>\n",
       "      <td id=\"T_dfe56_row4_col9\" class=\"data row4 col9\" >0.206714</td>\n",
       "    </tr>\n",
       "    <tr>\n",
       "      <th id=\"T_dfe56_level0_row5\" class=\"row_heading level0 row5\" >общая_полезность_разность</th>\n",
       "      <td id=\"T_dfe56_row5_col0\" class=\"data row5 col0\" >0.193319</td>\n",
       "      <td id=\"T_dfe56_row5_col1\" class=\"data row5 col1\" >0.128501</td>\n",
       "      <td id=\"T_dfe56_row5_col2\" class=\"data row5 col2\" >nan</td>\n",
       "      <td id=\"T_dfe56_row5_col3\" class=\"data row5 col3\" >-0.084747</td>\n",
       "      <td id=\"T_dfe56_row5_col4\" class=\"data row5 col4\" >0.982300</td>\n",
       "      <td id=\"T_dfe56_row5_col5\" class=\"data row5 col5\" >1.000000</td>\n",
       "      <td id=\"T_dfe56_row5_col6\" class=\"data row5 col6\" >0.932389</td>\n",
       "      <td id=\"T_dfe56_row5_col7\" class=\"data row5 col7\" >0.280981</td>\n",
       "      <td id=\"T_dfe56_row5_col8\" class=\"data row5 col8\" >0.201660</td>\n",
       "      <td id=\"T_dfe56_row5_col9\" class=\"data row5 col9\" >0.194337</td>\n",
       "    </tr>\n",
       "    <tr>\n",
       "      <th id=\"T_dfe56_level0_row6\" class=\"row_heading level0 row6\" >общая_полезность</th>\n",
       "      <td id=\"T_dfe56_row6_col0\" class=\"data row6 col0\" >0.225080</td>\n",
       "      <td id=\"T_dfe56_row6_col1\" class=\"data row6 col1\" >0.050504</td>\n",
       "      <td id=\"T_dfe56_row6_col2\" class=\"data row6 col2\" >nan</td>\n",
       "      <td id=\"T_dfe56_row6_col3\" class=\"data row6 col3\" >0.281139</td>\n",
       "      <td id=\"T_dfe56_row6_col4\" class=\"data row6 col4\" >0.983592</td>\n",
       "      <td id=\"T_dfe56_row6_col5\" class=\"data row6 col5\" >0.932389</td>\n",
       "      <td id=\"T_dfe56_row6_col6\" class=\"data row6 col6\" >1.000000</td>\n",
       "      <td id=\"T_dfe56_row6_col7\" class=\"data row6 col7\" >0.094487</td>\n",
       "      <td id=\"T_dfe56_row6_col8\" class=\"data row6 col8\" >0.221106</td>\n",
       "      <td id=\"T_dfe56_row6_col9\" class=\"data row6 col9\" >0.211719</td>\n",
       "    </tr>\n",
       "    <tr>\n",
       "      <th id=\"T_dfe56_level0_row7\" class=\"row_heading level0 row7\" >полезность_pct</th>\n",
       "      <td id=\"T_dfe56_row7_col0\" class=\"data row7 col0\" >0.027821</td>\n",
       "      <td id=\"T_dfe56_row7_col1\" class=\"data row7 col1\" >0.330338</td>\n",
       "      <td id=\"T_dfe56_row7_col2\" class=\"data row7 col2\" >nan</td>\n",
       "      <td id=\"T_dfe56_row7_col3\" class=\"data row7 col3\" >-0.483807</td>\n",
       "      <td id=\"T_dfe56_row7_col4\" class=\"data row7 col4\" >0.190522</td>\n",
       "      <td id=\"T_dfe56_row7_col5\" class=\"data row7 col5\" >0.280981</td>\n",
       "      <td id=\"T_dfe56_row7_col6\" class=\"data row7 col6\" >0.094487</td>\n",
       "      <td id=\"T_dfe56_row7_col7\" class=\"data row7 col7\" >1.000000</td>\n",
       "      <td id=\"T_dfe56_row7_col8\" class=\"data row7 col8\" >0.098561</td>\n",
       "      <td id=\"T_dfe56_row7_col9\" class=\"data row7 col9\" >0.107496</td>\n",
       "    </tr>\n",
       "    <tr>\n",
       "      <th id=\"T_dfe56_level0_row8\" class=\"row_heading level0 row8\" >words_count</th>\n",
       "      <td id=\"T_dfe56_row8_col0\" class=\"data row8 col0\" >0.084295</td>\n",
       "      <td id=\"T_dfe56_row8_col1\" class=\"data row8 col1\" >-0.095841</td>\n",
       "      <td id=\"T_dfe56_row8_col2\" class=\"data row8 col2\" >nan</td>\n",
       "      <td id=\"T_dfe56_row8_col3\" class=\"data row8 col3\" >0.074101</td>\n",
       "      <td id=\"T_dfe56_row8_col4\" class=\"data row8 col4\" >0.215234</td>\n",
       "      <td id=\"T_dfe56_row8_col5\" class=\"data row8 col5\" >0.201660</td>\n",
       "      <td id=\"T_dfe56_row8_col6\" class=\"data row8 col6\" >0.221106</td>\n",
       "      <td id=\"T_dfe56_row8_col7\" class=\"data row8 col7\" >0.098561</td>\n",
       "      <td id=\"T_dfe56_row8_col8\" class=\"data row8 col8\" >1.000000</td>\n",
       "      <td id=\"T_dfe56_row8_col9\" class=\"data row8 col9\" >0.990991</td>\n",
       "    </tr>\n",
       "    <tr>\n",
       "      <th id=\"T_dfe56_level0_row9\" class=\"row_heading level0 row9\" >lenght_com</th>\n",
       "      <td id=\"T_dfe56_row9_col0\" class=\"data row9 col0\" >0.081867</td>\n",
       "      <td id=\"T_dfe56_row9_col1\" class=\"data row9 col1\" >-0.084364</td>\n",
       "      <td id=\"T_dfe56_row9_col2\" class=\"data row9 col2\" >nan</td>\n",
       "      <td id=\"T_dfe56_row9_col3\" class=\"data row9 col3\" >0.067666</td>\n",
       "      <td id=\"T_dfe56_row9_col4\" class=\"data row9 col4\" >0.206714</td>\n",
       "      <td id=\"T_dfe56_row9_col5\" class=\"data row9 col5\" >0.194337</td>\n",
       "      <td id=\"T_dfe56_row9_col6\" class=\"data row9 col6\" >0.211719</td>\n",
       "      <td id=\"T_dfe56_row9_col7\" class=\"data row9 col7\" >0.107496</td>\n",
       "      <td id=\"T_dfe56_row9_col8\" class=\"data row9 col8\" >0.990991</td>\n",
       "      <td id=\"T_dfe56_row9_col9\" class=\"data row9 col9\" >1.000000</td>\n",
       "    </tr>\n",
       "  </tbody>\n",
       "</table>\n"
      ],
      "text/plain": [
       "<pandas.io.formats.style.Styler at 0x2b30d7c2f40>"
      ]
     },
     "execution_count": 37,
     "metadata": {},
     "output_type": "execute_result"
    }
   ],
   "source": [
    "data.corr().style.highlight_between(left=0.5, right=1, color='yellowgreen').highlight_null(null_color='lightgrey').highlight_max(color='coral')"
   ]
  },
  {
   "cell_type": "code",
   "execution_count": 38,
   "id": "fd9ca3d3",
   "metadata": {
    "scrolled": true
   },
   "outputs": [
    {
     "data": {
      "image/png": "[encoded data removed]",
      "text/plain": [
       "<Figure size 432x288 with 1 Axes>"
      ]
     },
     "metadata": {
      "needs_background": "light"
     },
     "output_type": "display_data"
    }
   ],
   "source": [
    "sns.scatterplot(data=data, x=\"words_count\", y=\"lenght_com\")\n",
    "plt.title('Зависимость между количеством слов и длиной коментраия')\n",
    "plt.show()"
   ]
  },
  {
   "cell_type": "markdown",
   "id": "07e40ffc",
   "metadata": {},
   "source": [
    "Пока оставлю, но при обучении модели вожмоно стоит пересмотреть признаки"
   ]
  },
  {
   "cell_type": "markdown",
   "id": "0d3f4629",
   "metadata": {},
   "source": [
    "### Категоризация данных"
   ]
  },
  {
   "cell_type": "code",
   "execution_count": 39,
   "id": "62da3649",
   "metadata": {},
   "outputs": [],
   "source": [
    "# Тип комментария\n",
    "def сom_type(x):\n",
    "    if x == 5: \n",
    "        return 'Супер'\n",
    "    elif x == 4:\n",
    "        return 'Хороший'\n",
    "    else:\n",
    "        return 'Плохо'"
   ]
  },
  {
   "cell_type": "code",
   "execution_count": 40,
   "id": "d7e1c9f4",
   "metadata": {},
   "outputs": [],
   "source": [
    "data['сom_type'] = data['Количество звезд'].apply(сom_type)"
   ]
  },
  {
   "cell_type": "code",
   "execution_count": 41,
   "id": "200fadb1",
   "metadata": {
    "scrolled": true
   },
   "outputs": [
    {
     "data": {
      "image/png": "[encoded data removed]",
      "text/plain": [
       "<Figure size 432x288 with 1 Axes>"
      ]
     },
     "metadata": {
      "needs_background": "light"
     },
     "output_type": "display_data"
    }
   ],
   "source": [
    "data['сom_type'].value_counts(normalize=True).plot(kind='barh', color='tomato')\n",
    "plt.title('Тип комментария')\n",
    "plt.show()"
   ]
  },
  {
   "cell_type": "code",
   "execution_count": 42,
   "id": "6a40bac0",
   "metadata": {},
   "outputs": [],
   "source": [
    "def categorize_purpose(row):\n",
    "    try:\n",
    "        if 'возврат' in row:\n",
    "            return 'возврат'\n",
    "        elif 'цена' in row or 'дорого' in row:\n",
    "            return 'не устраивает цена'\n",
    "        elif 'качество' in row or 'расстроен' in row:\n",
    "            return 'не устраивает качество'\n",
    "        elif 'комплект' in row or 'вместо' in row or 'вскрытый' in row:\n",
    "            return 'не полная комплектность'\n",
    "        elif 'цвет' in row and data['сom_type'] == 'Плохо':\n",
    "            return 'другой цвет'\n",
    "    except:\n",
    "        return 'нет категории'"
   ]
  },
  {
   "cell_type": "code",
   "execution_count": 43,
   "id": "4059971c",
   "metadata": {},
   "outputs": [],
   "source": [
    "bad_comments = data[data['сom_type'] == 'Плохо']"
   ]
  },
  {
   "cell_type": "code",
   "execution_count": 44,
   "id": "d4024434",
   "metadata": {},
   "outputs": [],
   "source": [
    "data['причина'] = bad_comments['Текст отзыва'].apply(categorize_purpose)"
   ]
  },
  {
   "cell_type": "code",
   "execution_count": 45,
   "id": "0f7e84ee",
   "metadata": {
    "scrolled": true
   },
   "outputs": [],
   "source": [
    "\n",
    "data['причина'] = data['причина'].fillna('нет жалоб')"
   ]
  },
  {
   "cell_type": "code",
   "execution_count": 46,
   "id": "3c7d995d",
   "metadata": {},
   "outputs": [
    {
     "data": {
      "text/plain": [
       "нет жалоб                  0.944204\n",
       "не полная комплектность    0.018599\n",
       "нет категории              0.018599\n",
       "возврат                    0.011465\n",
       "не устраивает качество     0.004076\n",
       "не устраивает цена         0.003057\n",
       "Name: причина, dtype: float64"
      ]
     },
     "execution_count": 46,
     "metadata": {},
     "output_type": "execute_result"
    }
   ],
   "source": [
    "data['причина'].value_counts(normalize=True)"
   ]
  },
  {
   "cell_type": "code",
   "execution_count": 47,
   "id": "67dd02aa",
   "metadata": {},
   "outputs": [
    {
     "data": {
      "image/png": "[encoded data removed]",
      "text/plain": [
       "<Figure size 432x288 with 1 Axes>"
      ]
     },
     "metadata": {
      "needs_background": "light"
     },
     "output_type": "display_data"
    }
   ],
   "source": [
    "# убрал 'нет жадоб' для отоброжения категорий\n",
    "data[data['причина'] != 'нет жалоб']['причина'].value_counts(normalize=True).plot(kind='bar', color='green')\n",
    "plt.title('Категории плохих коментариев')\n",
    "plt.xticks(rotation=30)\n",
    "plt.show()"
   ]
  },
  {
   "cell_type": "code",
   "execution_count": 48,
   "id": "56c9d6bc",
   "metadata": {},
   "outputs": [
    {
     "data": {
      "text/html": [
       "<div>\n",
       "<style scoped>\n",
       "    .dataframe tbody tr th:only-of-type {\n",
       "        vertical-align: middle;\n",
       "    }\n",
       "\n",
       "    .dataframe tbody tr th {\n",
       "        vertical-align: top;\n",
       "    }\n",
       "\n",
       "    .dataframe thead th {\n",
       "        text-align: right;\n",
       "    }\n",
       "</style>\n",
       "<table border=\"1\" class=\"dataframe\">\n",
       "  <thead>\n",
       "    <tr style=\"text-align: right;\">\n",
       "      <th></th>\n",
       "      <th>ID отзыва</th>\n",
       "      <th>Дата</th>\n",
       "      <th>Номенклатура</th>\n",
       "      <th>Количество звезд</th>\n",
       "      <th>Бренд</th>\n",
       "      <th>Текст отзыва</th>\n",
       "      <th>Имя</th>\n",
       "      <th>Регион</th>\n",
       "      <th>Цвет</th>\n",
       "      <th>Размер</th>\n",
       "      <th>Полезность (количество минусов)</th>\n",
       "      <th>Полезность (количество плюсов)</th>\n",
       "      <th>общая_полезность_разность</th>\n",
       "      <th>общая_полезность</th>\n",
       "      <th>полезность_pct</th>\n",
       "      <th>первый_отзыв</th>\n",
       "      <th>words_count</th>\n",
       "      <th>lenght_com</th>\n",
       "      <th>сom_type</th>\n",
       "      <th>причина</th>\n",
       "    </tr>\n",
       "  </thead>\n",
       "  <tbody>\n",
       "    <tr>\n",
       "      <th>3924</th>\n",
       "      <td>9999.0</td>\n",
       "      <td>2020-08-04</td>\n",
       "      <td>Артикул 879</td>\n",
       "      <td>5</td>\n",
       "      <td>Бренд 8</td>\n",
       "      <td>Просто супер, очень красивая вышивка, буду еще заказывать</td>\n",
       "      <td>Елена</td>\n",
       "      <td>RU</td>\n",
       "      <td>белый</td>\n",
       "      <td>NaN</td>\n",
       "      <td>0</td>\n",
       "      <td>0</td>\n",
       "      <td>0</td>\n",
       "      <td>0</td>\n",
       "      <td>NaN</td>\n",
       "      <td>2020-08-04</td>\n",
       "      <td>8</td>\n",
       "      <td>57</td>\n",
       "      <td>Супер</td>\n",
       "      <td>нет жалоб</td>\n",
       "    </tr>\n",
       "    <tr>\n",
       "      <th>3923</th>\n",
       "      <td>9998.0</td>\n",
       "      <td>2020-08-04</td>\n",
       "      <td>Артикул 879</td>\n",
       "      <td>5</td>\n",
       "      <td>Бренд 8</td>\n",
       "      <td>Класс очень красиво</td>\n",
       "      <td>Елена</td>\n",
       "      <td>RU</td>\n",
       "      <td>белый</td>\n",
       "      <td>NaN</td>\n",
       "      <td>0</td>\n",
       "      <td>0</td>\n",
       "      <td>0</td>\n",
       "      <td>0</td>\n",
       "      <td>NaN</td>\n",
       "      <td>2020-08-04</td>\n",
       "      <td>3</td>\n",
       "      <td>19</td>\n",
       "      <td>Супер</td>\n",
       "      <td>нет жалоб</td>\n",
       "    </tr>\n",
       "    <tr>\n",
       "      <th>3921</th>\n",
       "      <td>9994.0</td>\n",
       "      <td>2020-08-05</td>\n",
       "      <td>Артикул 475</td>\n",
       "      <td>5</td>\n",
       "      <td>Бренд 53</td>\n",
       "      <td>Пришел быстро. Не вскрытый. Брала за 1192 рубля. Дешевле чем в закупках вк.</td>\n",
       "      <td>Наталья</td>\n",
       "      <td>RU</td>\n",
       "      <td>горчичный</td>\n",
       "      <td>NaN</td>\n",
       "      <td>2</td>\n",
       "      <td>6</td>\n",
       "      <td>4</td>\n",
       "      <td>8</td>\n",
       "      <td>50.0</td>\n",
       "      <td>2020-08-05</td>\n",
       "      <td>13</td>\n",
       "      <td>75</td>\n",
       "      <td>Супер</td>\n",
       "      <td>нет жалоб</td>\n",
       "    </tr>\n",
       "    <tr>\n",
       "      <th>3920</th>\n",
       "      <td>9993.0</td>\n",
       "      <td>2020-08-05</td>\n",
       "      <td>Артикул 3108</td>\n",
       "      <td>5</td>\n",
       "      <td>Бренд 10</td>\n",
       "      <td>Цвет не серо -голубой,а ближе к серо -зеленому .</td>\n",
       "      <td>Ирина</td>\n",
       "      <td>RU</td>\n",
       "      <td>серо-голубой</td>\n",
       "      <td>NaN</td>\n",
       "      <td>1</td>\n",
       "      <td>3</td>\n",
       "      <td>2</td>\n",
       "      <td>4</td>\n",
       "      <td>50.0</td>\n",
       "      <td>2020-08-05</td>\n",
       "      <td>9</td>\n",
       "      <td>48</td>\n",
       "      <td>Супер</td>\n",
       "      <td>нет жалоб</td>\n",
       "    </tr>\n",
       "    <tr>\n",
       "      <th>3922</th>\n",
       "      <td>9995.0</td>\n",
       "      <td>2020-08-05</td>\n",
       "      <td>Артикул 3388</td>\n",
       "      <td>5</td>\n",
       "      <td>Бренд 10</td>\n",
       "      <td>Цвет немного отличается, больше с фиолетовым оттенком, плюс белые шерстинки придают более бледный вид. А так пряжа м...</td>\n",
       "      <td>Инна</td>\n",
       "      <td>RU</td>\n",
       "      <td>пурпурный</td>\n",
       "      <td>NaN</td>\n",
       "      <td>0</td>\n",
       "      <td>6</td>\n",
       "      <td>6</td>\n",
       "      <td>6</td>\n",
       "      <td>100.0</td>\n",
       "      <td>2020-08-05</td>\n",
       "      <td>22</td>\n",
       "      <td>149</td>\n",
       "      <td>Супер</td>\n",
       "      <td>нет жалоб</td>\n",
       "    </tr>\n",
       "  </tbody>\n",
       "</table>\n",
       "</div>"
      ],
      "text/plain": [
       "      ID отзыва       Дата  Номенклатура  Количество звезд     Бренд                                                                                                             Текст отзыва      Имя Регион          Цвет  Размер  Полезность (количество минусов)  Полезность (количество плюсов)  общая_полезность_разность  общая_полезность  полезность_pct первый_отзыв  words_count  lenght_com сom_type    причина\n",
       "3924     9999.0 2020-08-04   Артикул 879                 5   Бренд 8                                                                Просто супер, очень красивая вышивка, буду еще заказывать    Елена     RU         белый     NaN                                0                               0                          0                 0             NaN   2020-08-04            8          57    Супер  нет жалоб\n",
       "3923     9998.0 2020-08-04   Артикул 879                 5   Бренд 8                                                                                                      Класс очень красиво    Елена     RU         белый     NaN                                0                               0                          0                 0             NaN   2020-08-04            3          19    Супер  нет жалоб\n",
       "3921     9994.0 2020-08-05   Артикул 475                 5  Бренд 53                                              Пришел быстро. Не вскрытый. Брала за 1192 рубля. Дешевле чем в закупках вк.  Наталья     RU     горчичный     NaN                                2                               6                          4                 8            50.0   2020-08-05           13          75    Супер  нет жалоб\n",
       "3920     9993.0 2020-08-05  Артикул 3108                 5  Бренд 10                                                                         Цвет не серо -голубой,а ближе к серо -зеленому .    Ирина     RU  серо-голубой     NaN                                1                               3                          2                 4            50.0   2020-08-05            9          48    Супер  нет жалоб\n",
       "3922     9995.0 2020-08-05  Артикул 3388                 5  Бренд 10  Цвет немного отличается, больше с фиолетовым оттенком, плюс белые шерстинки придают более бледный вид. А так пряжа м...     Инна     RU     пурпурный     NaN                                0                               6                          6                 6           100.0   2020-08-05           22         149    Супер  нет жалоб"
      ]
     },
     "execution_count": 48,
     "metadata": {},
     "output_type": "execute_result"
    }
   ],
   "source": [
    "data.head(5)"
   ]
  },
  {
   "cell_type": "markdown",
   "id": "36c33ddb",
   "metadata": {},
   "source": [
    "### Gender"
   ]
  },
  {
   "cell_type": "code",
   "execution_count": 49,
   "id": "26edcc1e",
   "metadata": {},
   "outputs": [],
   "source": [
    "# так как имена есть и на английском, учитываем это\n",
    "def categorize_gender(data):\n",
    "    mask = data['Имя'].str.endswith('a') | data['Имя'].str.endswith('я') | data['Имя'].str.endswith('а') | data['Имя'].str.endswith('ь')  \n",
    "    data['Gender'] = 'Мужской'\n",
    "    data.loc[mask, 'Gender'] = 'Женский'\n",
    "    return data\n"
   ]
  },
  {
   "cell_type": "code",
   "execution_count": 50,
   "id": "0c0485a3",
   "metadata": {},
   "outputs": [],
   "source": [
    "data = categorize_gender(data)\n"
   ]
  },
  {
   "cell_type": "code",
   "execution_count": 77,
   "id": "d5ef1b2b",
   "metadata": {},
   "outputs": [
    {
     "data": {
      "image/png": "[encoded data removed]",
      "text/plain": [
       "<Figure size 1152x432 with 1 Axes>"
      ]
     },
     "metadata": {},
     "output_type": "display_data"
    }
   ],
   "source": [
    "data['Gender'].value_counts().plot(kind='bar')\n",
    "plt.title('Пол покупателей')\n",
    "plt.xticks(rotation=45)\n",
    "plt.show()"
   ]
  },
  {
   "cell_type": "code",
   "execution_count": 52,
   "id": "3baaa5ca",
   "metadata": {
    "scrolled": true
   },
   "outputs": [
    {
     "data": {
      "text/html": [
       "<div>\n",
       "<style scoped>\n",
       "    .dataframe tbody tr th:only-of-type {\n",
       "        vertical-align: middle;\n",
       "    }\n",
       "\n",
       "    .dataframe tbody tr th {\n",
       "        vertical-align: top;\n",
       "    }\n",
       "\n",
       "    .dataframe thead th {\n",
       "        text-align: right;\n",
       "    }\n",
       "</style>\n",
       "<table border=\"1\" class=\"dataframe\">\n",
       "  <thead>\n",
       "    <tr style=\"text-align: right;\">\n",
       "      <th></th>\n",
       "      <th>общая_полезность</th>\n",
       "      <th>полезность_pct</th>\n",
       "      <th>Полезность (количество минусов)</th>\n",
       "      <th>Полезность (количество плюсов)</th>\n",
       "    </tr>\n",
       "  </thead>\n",
       "  <tbody>\n",
       "    <tr>\n",
       "      <th>3086</th>\n",
       "      <td>123</td>\n",
       "      <td>96.747967</td>\n",
       "      <td>2</td>\n",
       "      <td>121</td>\n",
       "    </tr>\n",
       "    <tr>\n",
       "      <th>3817</th>\n",
       "      <td>86</td>\n",
       "      <td>97.674419</td>\n",
       "      <td>1</td>\n",
       "      <td>85</td>\n",
       "    </tr>\n",
       "    <tr>\n",
       "      <th>3662</th>\n",
       "      <td>82</td>\n",
       "      <td>97.560976</td>\n",
       "      <td>1</td>\n",
       "      <td>81</td>\n",
       "    </tr>\n",
       "    <tr>\n",
       "      <th>3303</th>\n",
       "      <td>81</td>\n",
       "      <td>100.000000</td>\n",
       "      <td>0</td>\n",
       "      <td>81</td>\n",
       "    </tr>\n",
       "    <tr>\n",
       "      <th>3181</th>\n",
       "      <td>77</td>\n",
       "      <td>100.000000</td>\n",
       "      <td>0</td>\n",
       "      <td>77</td>\n",
       "    </tr>\n",
       "    <tr>\n",
       "      <th>...</th>\n",
       "      <td>...</td>\n",
       "      <td>...</td>\n",
       "      <td>...</td>\n",
       "      <td>...</td>\n",
       "    </tr>\n",
       "    <tr>\n",
       "      <th>1835</th>\n",
       "      <td>0</td>\n",
       "      <td>NaN</td>\n",
       "      <td>0</td>\n",
       "      <td>0</td>\n",
       "    </tr>\n",
       "    <tr>\n",
       "      <th>1832</th>\n",
       "      <td>0</td>\n",
       "      <td>NaN</td>\n",
       "      <td>0</td>\n",
       "      <td>0</td>\n",
       "    </tr>\n",
       "    <tr>\n",
       "      <th>1827</th>\n",
       "      <td>0</td>\n",
       "      <td>NaN</td>\n",
       "      <td>0</td>\n",
       "      <td>0</td>\n",
       "    </tr>\n",
       "    <tr>\n",
       "      <th>1852</th>\n",
       "      <td>0</td>\n",
       "      <td>NaN</td>\n",
       "      <td>0</td>\n",
       "      <td>0</td>\n",
       "    </tr>\n",
       "    <tr>\n",
       "      <th>0</th>\n",
       "      <td>0</td>\n",
       "      <td>NaN</td>\n",
       "      <td>0</td>\n",
       "      <td>0</td>\n",
       "    </tr>\n",
       "  </tbody>\n",
       "</table>\n",
       "<p>3925 rows × 4 columns</p>\n",
       "</div>"
      ],
      "text/plain": [
       "      общая_полезность  полезность_pct  Полезность (количество минусов)  Полезность (количество плюсов)\n",
       "3086               123       96.747967                                2                             121\n",
       "3817                86       97.674419                                1                              85\n",
       "3662                82       97.560976                                1                              81\n",
       "3303                81      100.000000                                0                              81\n",
       "3181                77      100.000000                                0                              77\n",
       "...                ...             ...                              ...                             ...\n",
       "1835                 0             NaN                                0                               0\n",
       "1832                 0             NaN                                0                               0\n",
       "1827                 0             NaN                                0                               0\n",
       "1852                 0             NaN                                0                               0\n",
       "0                    0             NaN                                0                               0\n",
       "\n",
       "[3925 rows x 4 columns]"
      ]
     },
     "execution_count": 52,
     "metadata": {},
     "output_type": "execute_result"
    }
   ],
   "source": [
    "data[['общая_полезность', 'полезность_pct', 'Полезность (количество минусов)', 'Полезность (количество плюсов)']].sort_values(by='общая_полезность', ascending=False)"
   ]
  },
  {
   "cell_type": "code",
   "execution_count": 53,
   "id": "93cbf61a",
   "metadata": {},
   "outputs": [],
   "source": [
    "def categorize_values(values):\n",
    "    categories = ['E', 'D', 'C','B','A']\n",
    "    cutoffs = [20, 40, 60, 80, 125]\n",
    "    categories_dict = dict(zip(range(len(categories)), categories))\n",
    "    categories_dict[len(categories_dict)] = 'другая'\n",
    "    result = []\n",
    "    for value in values:\n",
    "        if value < 0 or value > 140:\n",
    "            result.append(None)\n",
    "        else:\n",
    "            for i, cutoff in enumerate(cutoffs):\n",
    "                if value <= cutoff:\n",
    "                    result.append(categories_dict[i])\n",
    "                    break\n",
    "            else:\n",
    "                result.append(categories_dict[len(categories_dict) - 1])\n",
    "    return result\n"
   ]
  },
  {
   "cell_type": "code",
   "execution_count": 54,
   "id": "90b03240",
   "metadata": {},
   "outputs": [],
   "source": [
    "data['категория_полезности'] = categorize_values(data['общая_полезность'])\n"
   ]
  },
  {
   "cell_type": "code",
   "execution_count": 55,
   "id": "9f505d0a",
   "metadata": {
    "scrolled": true
   },
   "outputs": [
    {
     "data": {
      "text/html": [
       "<div>\n",
       "<style scoped>\n",
       "    .dataframe tbody tr th:only-of-type {\n",
       "        vertical-align: middle;\n",
       "    }\n",
       "\n",
       "    .dataframe tbody tr th {\n",
       "        vertical-align: top;\n",
       "    }\n",
       "\n",
       "    .dataframe thead th {\n",
       "        text-align: right;\n",
       "    }\n",
       "</style>\n",
       "<table border=\"1\" class=\"dataframe\">\n",
       "  <thead>\n",
       "    <tr style=\"text-align: right;\">\n",
       "      <th></th>\n",
       "      <th>общая_полезность</th>\n",
       "      <th>категория_полезности</th>\n",
       "      <th>полезность_pct</th>\n",
       "      <th>Полезность (количество минусов)</th>\n",
       "      <th>Полезность (количество плюсов)</th>\n",
       "    </tr>\n",
       "  </thead>\n",
       "  <tbody>\n",
       "    <tr>\n",
       "      <th>3086</th>\n",
       "      <td>123</td>\n",
       "      <td>A</td>\n",
       "      <td>96.747967</td>\n",
       "      <td>2</td>\n",
       "      <td>121</td>\n",
       "    </tr>\n",
       "    <tr>\n",
       "      <th>3817</th>\n",
       "      <td>86</td>\n",
       "      <td>A</td>\n",
       "      <td>97.674419</td>\n",
       "      <td>1</td>\n",
       "      <td>85</td>\n",
       "    </tr>\n",
       "    <tr>\n",
       "      <th>3662</th>\n",
       "      <td>82</td>\n",
       "      <td>A</td>\n",
       "      <td>97.560976</td>\n",
       "      <td>1</td>\n",
       "      <td>81</td>\n",
       "    </tr>\n",
       "    <tr>\n",
       "      <th>3303</th>\n",
       "      <td>81</td>\n",
       "      <td>A</td>\n",
       "      <td>100.000000</td>\n",
       "      <td>0</td>\n",
       "      <td>81</td>\n",
       "    </tr>\n",
       "    <tr>\n",
       "      <th>3181</th>\n",
       "      <td>77</td>\n",
       "      <td>B</td>\n",
       "      <td>100.000000</td>\n",
       "      <td>0</td>\n",
       "      <td>77</td>\n",
       "    </tr>\n",
       "    <tr>\n",
       "      <th>...</th>\n",
       "      <td>...</td>\n",
       "      <td>...</td>\n",
       "      <td>...</td>\n",
       "      <td>...</td>\n",
       "      <td>...</td>\n",
       "    </tr>\n",
       "    <tr>\n",
       "      <th>1835</th>\n",
       "      <td>0</td>\n",
       "      <td>E</td>\n",
       "      <td>NaN</td>\n",
       "      <td>0</td>\n",
       "      <td>0</td>\n",
       "    </tr>\n",
       "    <tr>\n",
       "      <th>1832</th>\n",
       "      <td>0</td>\n",
       "      <td>E</td>\n",
       "      <td>NaN</td>\n",
       "      <td>0</td>\n",
       "      <td>0</td>\n",
       "    </tr>\n",
       "    <tr>\n",
       "      <th>1827</th>\n",
       "      <td>0</td>\n",
       "      <td>E</td>\n",
       "      <td>NaN</td>\n",
       "      <td>0</td>\n",
       "      <td>0</td>\n",
       "    </tr>\n",
       "    <tr>\n",
       "      <th>1852</th>\n",
       "      <td>0</td>\n",
       "      <td>E</td>\n",
       "      <td>NaN</td>\n",
       "      <td>0</td>\n",
       "      <td>0</td>\n",
       "    </tr>\n",
       "    <tr>\n",
       "      <th>0</th>\n",
       "      <td>0</td>\n",
       "      <td>E</td>\n",
       "      <td>NaN</td>\n",
       "      <td>0</td>\n",
       "      <td>0</td>\n",
       "    </tr>\n",
       "  </tbody>\n",
       "</table>\n",
       "<p>3925 rows × 5 columns</p>\n",
       "</div>"
      ],
      "text/plain": [
       "      общая_полезность категория_полезности  полезность_pct  Полезность (количество минусов)  Полезность (количество плюсов)\n",
       "3086               123                    A       96.747967                                2                             121\n",
       "3817                86                    A       97.674419                                1                              85\n",
       "3662                82                    A       97.560976                                1                              81\n",
       "3303                81                    A      100.000000                                0                              81\n",
       "3181                77                    B      100.000000                                0                              77\n",
       "...                ...                  ...             ...                              ...                             ...\n",
       "1835                 0                    E             NaN                                0                               0\n",
       "1832                 0                    E             NaN                                0                               0\n",
       "1827                 0                    E             NaN                                0                               0\n",
       "1852                 0                    E             NaN                                0                               0\n",
       "0                    0                    E             NaN                                0                               0\n",
       "\n",
       "[3925 rows x 5 columns]"
      ]
     },
     "execution_count": 55,
     "metadata": {},
     "output_type": "execute_result"
    }
   ],
   "source": [
    "data[['общая_полезность', 'категория_полезности', 'полезность_pct', 'Полезность (количество минусов)', 'Полезность (количество плюсов)']].sort_values(by='общая_полезность', ascending=False)"
   ]
  },
  {
   "cell_type": "code",
   "execution_count": 56,
   "id": "fe87845d",
   "metadata": {
    "scrolled": false
   },
   "outputs": [
    {
     "data": {
      "text/plain": [
       "E    3798\n",
       "D      91\n",
       "C      22\n",
       "B      10\n",
       "A       4\n",
       "Name: категория_полезности, dtype: int64"
      ]
     },
     "execution_count": 56,
     "metadata": {},
     "output_type": "execute_result"
    }
   ],
   "source": [
    "data['категория_полезности'].value_counts()"
   ]
  },
  {
   "cell_type": "code",
   "execution_count": 57,
   "id": "e4b817fa",
   "metadata": {},
   "outputs": [
    {
     "data": {
      "image/png": "[encoded data removed]",
      "text/plain": [
       "<Figure size 432x288 with 1 Axes>"
      ]
     },
     "metadata": {
      "needs_background": "light"
     },
     "output_type": "display_data"
    }
   ],
   "source": [
    "sns.barplot(data=data, x='категория_полезности', y='общая_полезность', hue=\"Gender\")\n",
    "sns.set(rc={'figure.figsize':(16,6)})\n",
    "plt.title('График категорий по полу')\n",
    "plt.show()"
   ]
  },
  {
   "cell_type": "code",
   "execution_count": 58,
   "id": "079932dd",
   "metadata": {
    "scrolled": false
   },
   "outputs": [
    {
     "data": {
      "text/html": [
       "<div>\n",
       "<style scoped>\n",
       "    .dataframe tbody tr th:only-of-type {\n",
       "        vertical-align: middle;\n",
       "    }\n",
       "\n",
       "    .dataframe tbody tr th {\n",
       "        vertical-align: top;\n",
       "    }\n",
       "\n",
       "    .dataframe thead th {\n",
       "        text-align: right;\n",
       "    }\n",
       "</style>\n",
       "<table border=\"1\" class=\"dataframe\">\n",
       "  <thead>\n",
       "    <tr style=\"text-align: right;\">\n",
       "      <th></th>\n",
       "      <th>ID отзыва</th>\n",
       "      <th>Дата</th>\n",
       "      <th>Номенклатура</th>\n",
       "      <th>Количество звезд</th>\n",
       "      <th>Бренд</th>\n",
       "      <th>Текст отзыва</th>\n",
       "      <th>Имя</th>\n",
       "      <th>Регион</th>\n",
       "      <th>Цвет</th>\n",
       "      <th>Размер</th>\n",
       "      <th>...</th>\n",
       "      <th>общая_полезность_разность</th>\n",
       "      <th>общая_полезность</th>\n",
       "      <th>полезность_pct</th>\n",
       "      <th>первый_отзыв</th>\n",
       "      <th>words_count</th>\n",
       "      <th>lenght_com</th>\n",
       "      <th>сom_type</th>\n",
       "      <th>причина</th>\n",
       "      <th>Gender</th>\n",
       "      <th>категория_полезности</th>\n",
       "    </tr>\n",
       "  </thead>\n",
       "  <tbody>\n",
       "    <tr>\n",
       "      <th>3900</th>\n",
       "      <td>9948.0</td>\n",
       "      <td>2020-08-08</td>\n",
       "      <td>Артикул 646</td>\n",
       "      <td>5</td>\n",
       "      <td>Бренд 21</td>\n",
       "      <td>Спасибо, все отлично!!!</td>\n",
       "      <td>Борис</td>\n",
       "      <td>RU</td>\n",
       "      <td>синий</td>\n",
       "      <td>NaN</td>\n",
       "      <td>...</td>\n",
       "      <td>0</td>\n",
       "      <td>0</td>\n",
       "      <td>NaN</td>\n",
       "      <td>2020-08-08</td>\n",
       "      <td>3</td>\n",
       "      <td>23</td>\n",
       "      <td>Супер</td>\n",
       "      <td>нет жалоб</td>\n",
       "      <td>Мужской</td>\n",
       "      <td>E</td>\n",
       "    </tr>\n",
       "    <tr>\n",
       "      <th>3802</th>\n",
       "      <td>9680.0</td>\n",
       "      <td>2020-08-22</td>\n",
       "      <td>Артикул 4602</td>\n",
       "      <td>5</td>\n",
       "      <td>Бренд 10</td>\n",
       "      <td>Отлично Спасибо большое</td>\n",
       "      <td>Заур</td>\n",
       "      <td>KZ</td>\n",
       "      <td>золотистый</td>\n",
       "      <td>NaN</td>\n",
       "      <td>...</td>\n",
       "      <td>-1</td>\n",
       "      <td>5</td>\n",
       "      <td>-20.000000</td>\n",
       "      <td>2020-08-22</td>\n",
       "      <td>3</td>\n",
       "      <td>23</td>\n",
       "      <td>Супер</td>\n",
       "      <td>нет жалоб</td>\n",
       "      <td>Мужской</td>\n",
       "      <td>E</td>\n",
       "    </tr>\n",
       "    <tr>\n",
       "      <th>3746</th>\n",
       "      <td>9543.0</td>\n",
       "      <td>2020-08-29</td>\n",
       "      <td>Артикул 3777</td>\n",
       "      <td>5</td>\n",
       "      <td>Бренд 10</td>\n",
       "      <td>Жена просто в восторге. Спасибо огромное👍🏻</td>\n",
       "      <td>Петр</td>\n",
       "      <td>RU</td>\n",
       "      <td>коричневый</td>\n",
       "      <td>NaN</td>\n",
       "      <td>...</td>\n",
       "      <td>4</td>\n",
       "      <td>4</td>\n",
       "      <td>100.000000</td>\n",
       "      <td>2020-08-29</td>\n",
       "      <td>6</td>\n",
       "      <td>42</td>\n",
       "      <td>Супер</td>\n",
       "      <td>нет жалоб</td>\n",
       "      <td>Мужской</td>\n",
       "      <td>E</td>\n",
       "    </tr>\n",
       "    <tr>\n",
       "      <th>3694</th>\n",
       "      <td>9400.0</td>\n",
       "      <td>2020-09-06</td>\n",
       "      <td>Артикул 3604</td>\n",
       "      <td>3</td>\n",
       "      <td>Бренд 10</td>\n",
       "      <td>На фото явно добавили Цветности или Яркого освещения. Цвет в реальности ТЕМНЕЕ.  Запах очень приятный и вкусный)..</td>\n",
       "      <td>Евгени</td>\n",
       "      <td>RU</td>\n",
       "      <td>светло-серый</td>\n",
       "      <td>NaN</td>\n",
       "      <td>...</td>\n",
       "      <td>1</td>\n",
       "      <td>3</td>\n",
       "      <td>33.333333</td>\n",
       "      <td>2020-09-06</td>\n",
       "      <td>17</td>\n",
       "      <td>114</td>\n",
       "      <td>Плохо</td>\n",
       "      <td>нет жалоб</td>\n",
       "      <td>Мужской</td>\n",
       "      <td>E</td>\n",
       "    </tr>\n",
       "    <tr>\n",
       "      <th>3683</th>\n",
       "      <td>9373.0</td>\n",
       "      <td>2020-09-08</td>\n",
       "      <td>Артикул 347</td>\n",
       "      <td>5</td>\n",
       "      <td>Бренд 56</td>\n",
       "      <td>Роскошный малыш :)</td>\n",
       "      <td>Алсу</td>\n",
       "      <td>RU</td>\n",
       "      <td>серебристый</td>\n",
       "      <td>NaN</td>\n",
       "      <td>...</td>\n",
       "      <td>3</td>\n",
       "      <td>3</td>\n",
       "      <td>100.000000</td>\n",
       "      <td>2020-09-08</td>\n",
       "      <td>3</td>\n",
       "      <td>18</td>\n",
       "      <td>Супер</td>\n",
       "      <td>нет жалоб</td>\n",
       "      <td>Мужской</td>\n",
       "      <td>E</td>\n",
       "    </tr>\n",
       "    <tr>\n",
       "      <th>...</th>\n",
       "      <td>...</td>\n",
       "      <td>...</td>\n",
       "      <td>...</td>\n",
       "      <td>...</td>\n",
       "      <td>...</td>\n",
       "      <td>...</td>\n",
       "      <td>...</td>\n",
       "      <td>...</td>\n",
       "      <td>...</td>\n",
       "      <td>...</td>\n",
       "      <td>...</td>\n",
       "      <td>...</td>\n",
       "      <td>...</td>\n",
       "      <td>...</td>\n",
       "      <td>...</td>\n",
       "      <td>...</td>\n",
       "      <td>...</td>\n",
       "      <td>...</td>\n",
       "      <td>...</td>\n",
       "      <td>...</td>\n",
       "      <td>...</td>\n",
       "    </tr>\n",
       "    <tr>\n",
       "      <th>37</th>\n",
       "      <td>148.0</td>\n",
       "      <td>2021-10-30</td>\n",
       "      <td>Артикул 53</td>\n",
       "      <td>5</td>\n",
       "      <td>Бренд 24</td>\n",
       "      <td>Отличные ниточки. А цена вообще сказочная. Спасибо.</td>\n",
       "      <td>Руслан</td>\n",
       "      <td>RU</td>\n",
       "      <td>NaN</td>\n",
       "      <td>NaN</td>\n",
       "      <td>...</td>\n",
       "      <td>0</td>\n",
       "      <td>0</td>\n",
       "      <td>NaN</td>\n",
       "      <td>2021-10-30</td>\n",
       "      <td>7</td>\n",
       "      <td>51</td>\n",
       "      <td>Супер</td>\n",
       "      <td>нет жалоб</td>\n",
       "      <td>Мужской</td>\n",
       "      <td>E</td>\n",
       "    </tr>\n",
       "    <tr>\n",
       "      <th>32</th>\n",
       "      <td>127.0</td>\n",
       "      <td>2021-10-31</td>\n",
       "      <td>Артикул 123</td>\n",
       "      <td>5</td>\n",
       "      <td>Бренд 3</td>\n",
       "      <td>Отличная канва!!!</td>\n",
       "      <td>Андрей</td>\n",
       "      <td>RU</td>\n",
       "      <td>слоновая кость</td>\n",
       "      <td>NaN</td>\n",
       "      <td>...</td>\n",
       "      <td>0</td>\n",
       "      <td>0</td>\n",
       "      <td>NaN</td>\n",
       "      <td>2021-10-31</td>\n",
       "      <td>2</td>\n",
       "      <td>17</td>\n",
       "      <td>Супер</td>\n",
       "      <td>нет жалоб</td>\n",
       "      <td>Мужской</td>\n",
       "      <td>E</td>\n",
       "    </tr>\n",
       "    <tr>\n",
       "      <th>21</th>\n",
       "      <td>83.0</td>\n",
       "      <td>2021-11-02</td>\n",
       "      <td>Артикул 48</td>\n",
       "      <td>5</td>\n",
       "      <td>Бренд 22</td>\n",
       "      <td>Очень качественное изделие, аккуратно исполнены все детали, прочное и устойчивое</td>\n",
       "      <td>Александр</td>\n",
       "      <td>RU</td>\n",
       "      <td>NaN</td>\n",
       "      <td>NaN</td>\n",
       "      <td>...</td>\n",
       "      <td>0</td>\n",
       "      <td>0</td>\n",
       "      <td>NaN</td>\n",
       "      <td>2021-11-02</td>\n",
       "      <td>10</td>\n",
       "      <td>80</td>\n",
       "      <td>Супер</td>\n",
       "      <td>нет жалоб</td>\n",
       "      <td>Мужской</td>\n",
       "      <td>E</td>\n",
       "    </tr>\n",
       "    <tr>\n",
       "      <th>17</th>\n",
       "      <td>66.0</td>\n",
       "      <td>2021-11-03</td>\n",
       "      <td>Артикул 64</td>\n",
       "      <td>5</td>\n",
       "      <td>Бренд 25</td>\n",
       "      <td>Супер! Доставка быстрая! Супруга довольна.</td>\n",
       "      <td>Максим</td>\n",
       "      <td>KZ</td>\n",
       "      <td>NaN</td>\n",
       "      <td>NaN</td>\n",
       "      <td>...</td>\n",
       "      <td>0</td>\n",
       "      <td>0</td>\n",
       "      <td>NaN</td>\n",
       "      <td>2021-11-03</td>\n",
       "      <td>5</td>\n",
       "      <td>42</td>\n",
       "      <td>Супер</td>\n",
       "      <td>нет жалоб</td>\n",
       "      <td>Мужской</td>\n",
       "      <td>E</td>\n",
       "    </tr>\n",
       "    <tr>\n",
       "      <th>18</th>\n",
       "      <td>70.0</td>\n",
       "      <td>2021-11-03</td>\n",
       "      <td>Артикул 68</td>\n",
       "      <td>5</td>\n",
       "      <td>Бренд 10</td>\n",
       "      <td>спасибо вам большое все отлично 👍</td>\n",
       "      <td>Ani</td>\n",
       "      <td>AM</td>\n",
       "      <td>коричневый</td>\n",
       "      <td>NaN</td>\n",
       "      <td>...</td>\n",
       "      <td>0</td>\n",
       "      <td>0</td>\n",
       "      <td>NaN</td>\n",
       "      <td>2021-11-03</td>\n",
       "      <td>6</td>\n",
       "      <td>33</td>\n",
       "      <td>Супер</td>\n",
       "      <td>нет жалоб</td>\n",
       "      <td>Мужской</td>\n",
       "      <td>E</td>\n",
       "    </tr>\n",
       "  </tbody>\n",
       "</table>\n",
       "<p>184 rows × 22 columns</p>\n",
       "</div>"
      ],
      "text/plain": [
       "      ID отзыва       Дата  Номенклатура  Количество звезд     Бренд                                                                                                        Текст отзыва        Имя Регион            Цвет  Размер  ...  общая_полезность_разность  общая_полезность  полезность_pct  первый_отзыв  words_count lenght_com  сom_type    причина   Gender категория_полезности\n",
       "3900     9948.0 2020-08-08   Артикул 646                 5  Бренд 21                                                                                             Спасибо, все отлично!!!      Борис     RU           синий     NaN  ...                          0                 0             NaN    2020-08-08            3         23     Супер  нет жалоб  Мужской                    E\n",
       "3802     9680.0 2020-08-22  Артикул 4602                 5  Бренд 10                                                                                             Отлично Спасибо большое       Заур     KZ      золотистый     NaN  ...                         -1                 5      -20.000000    2020-08-22            3         23     Супер  нет жалоб  Мужской                    E\n",
       "3746     9543.0 2020-08-29  Артикул 3777                 5  Бренд 10                                                                          Жена просто в восторге. Спасибо огромное👍🏻       Петр     RU      коричневый     NaN  ...                          4                 4      100.000000    2020-08-29            6         42     Супер  нет жалоб  Мужской                    E\n",
       "3694     9400.0 2020-09-06  Артикул 3604                 3  Бренд 10  На фото явно добавили Цветности или Яркого освещения. Цвет в реальности ТЕМНЕЕ.  Запах очень приятный и вкусный)..     Евгени     RU    светло-серый     NaN  ...                          1                 3       33.333333    2020-09-06           17        114     Плохо  нет жалоб  Мужской                    E\n",
       "3683     9373.0 2020-09-08   Артикул 347                 5  Бренд 56                                                                                                  Роскошный малыш :)       Алсу     RU     серебристый     NaN  ...                          3                 3      100.000000    2020-09-08            3         18     Супер  нет жалоб  Мужской                    E\n",
       "...         ...        ...           ...               ...       ...                                                                                                                 ...        ...    ...             ...     ...  ...                        ...               ...             ...           ...          ...        ...       ...        ...      ...                  ...\n",
       "37        148.0 2021-10-30    Артикул 53                 5  Бренд 24                                                                 Отличные ниточки. А цена вообще сказочная. Спасибо.     Руслан     RU             NaN     NaN  ...                          0                 0             NaN    2021-10-30            7         51     Супер  нет жалоб  Мужской                    E\n",
       "32        127.0 2021-10-31   Артикул 123                 5   Бренд 3                                                                                                   Отличная канва!!!     Андрей     RU  слоновая кость     NaN  ...                          0                 0             NaN    2021-10-31            2         17     Супер  нет жалоб  Мужской                    E\n",
       "21         83.0 2021-11-02    Артикул 48                 5  Бренд 22                                    Очень качественное изделие, аккуратно исполнены все детали, прочное и устойчивое  Александр     RU             NaN     NaN  ...                          0                 0             NaN    2021-11-02           10         80     Супер  нет жалоб  Мужской                    E\n",
       "17         66.0 2021-11-03    Артикул 64                 5  Бренд 25                                                                          Супер! Доставка быстрая! Супруга довольна.     Максим     KZ             NaN     NaN  ...                          0                 0             NaN    2021-11-03            5         42     Супер  нет жалоб  Мужской                    E\n",
       "18         70.0 2021-11-03    Артикул 68                 5  Бренд 10                                                                                   спасибо вам большое все отлично 👍        Ani     AM      коричневый     NaN  ...                          0                 0             NaN    2021-11-03            6         33     Супер  нет жалоб  Мужской                    E\n",
       "\n",
       "[184 rows x 22 columns]"
      ]
     },
     "execution_count": 58,
     "metadata": {},
     "output_type": "execute_result"
    }
   ],
   "source": [
    "data[data['Gender'] == 'Мужской']"
   ]
  },
  {
   "cell_type": "code",
   "execution_count": 59,
   "id": "830f87f8",
   "metadata": {},
   "outputs": [],
   "source": [
    "writer = ExcelWriter('Finaldata.xlsx')\n",
    "data.to_excel(writer,'Sheet1', index=False)\n",
    "writer.save()"
   ]
  },
  {
   "cell_type": "markdown",
   "id": "8fbe4075",
   "metadata": {},
   "source": [
    "#### Вывод"
   ]
  },
  {
   "cell_type": "markdown",
   "id": "3c0a4f12",
   "metadata": {},
   "source": [
    "* Оставляют комментарии женщины, но и тематика вышивка, однако есть и мужчины покупающие товары для вторых половинок. "
   ]
  },
  {
   "cell_type": "markdown",
   "id": "f9773b5a",
   "metadata": {},
   "source": [
    "### NLP обучение моделей"
   ]
  },
  {
   "cell_type": "code",
   "execution_count": 60,
   "id": "b7afe9a6",
   "metadata": {},
   "outputs": [],
   "source": [
    "# задаем позитивную целевую переменную\n",
    "def target(x):\n",
    "    if x == 'Супер':\n",
    "        return 1\n",
    "    else:\n",
    "        return 0\n",
    "\n",
    "data['target'] = data['сom_type'].apply(target)"
   ]
  },
  {
   "cell_type": "code",
   "execution_count": 61,
   "id": "7366d8fa",
   "metadata": {},
   "outputs": [],
   "source": [
    "corpus = list(data['Текст отзыва'])"
   ]
  },
  {
   "cell_type": "code",
   "execution_count": 62,
   "id": "1b4b7c03",
   "metadata": {},
   "outputs": [
    {
     "name": "stdout",
     "output_type": "stream",
     "text": [
      "Исходный текст: Просто супер, очень красивая вышивка, буду еще заказывать\n",
      "Очищенный и лемматизированный текст: просто супер  очень красивый вышивка  быть еще заказывать\n",
      "\n"
     ]
    }
   ],
   "source": [
    "# лемантизируем слова\n",
    "def lemmatize(text):\n",
    "    m = Mystem()\n",
    "    lemm_list = m.lemmatize(text)\n",
    "    lemm_text = \"\".join(lemm_list)\n",
    "        \n",
    "    return lemm_text\n",
    "\n",
    "# очищаем слова\n",
    "def clear_text(text):\n",
    "    clear = re.sub(r'[^а-яА-ЯёЁ]', ' ', text)\n",
    "    сlear = clear.split()\n",
    "    clear = ''.join(clear)\n",
    "    return clear\n",
    "\n",
    "print(\"Исходный текст:\", corpus[0])\n",
    "print(\"Очищенный и лемматизированный текст:\", lemmatize(clear_text(corpus[0])))"
   ]
  },
  {
   "cell_type": "code",
   "execution_count": 63,
   "id": "87624227",
   "metadata": {
    "scrolled": true
   },
   "outputs": [
    {
     "name": "stderr",
     "output_type": "stream",
     "text": [
      "100%|██████████| 3925/3925 [00:00<00:00, 65418.03it/s]\n",
      "100%|██████████| 3925/3925 [54:16<00:00,  1.21it/s]"
     ]
    },
    {
     "name": "stdout",
     "output_type": "stream",
     "text": [
      "CPU times: total: 11.2 s\n",
      "Wall time: 54min 16s\n"
     ]
    },
    {
     "name": "stderr",
     "output_type": "stream",
     "text": [
      "\n"
     ]
    }
   ],
   "source": [
    "%%time\n",
    "\n",
    "tqdm.pandas()\n",
    "\n",
    "data['Текст отзыва'] = data['Текст отзыва'].progress_apply(clear_text).progress_apply(lemmatize)\n"
   ]
  },
  {
   "cell_type": "markdown",
   "id": "b2bee095",
   "metadata": {},
   "source": [
    "CPU times: total: 10.8 s\n",
    "Wall time: 53min 53s"
   ]
  },
  {
   "cell_type": "code",
   "execution_count": 64,
   "id": "ebddbba3",
   "metadata": {},
   "outputs": [
    {
     "name": "stdout",
     "output_type": "stream",
     "text": [
      "Размер: (3925, 43391)\n"
     ]
    }
   ],
   "source": [
    "count_vect = CountVectorizer(ngram_range=(2, 2)) \n",
    "n_gramm = count_vect.fit_transform(corpus)\n",
    "print(\"Размер:\", n_gramm.shape)"
   ]
  },
  {
   "cell_type": "code",
   "execution_count": 65,
   "id": "423aa763",
   "metadata": {},
   "outputs": [
    {
     "name": "stderr",
     "output_type": "stream",
     "text": [
      "[nltk_data] Downloading package stopwords to\n",
      "[nltk_data]     C:\\Users\\theli\\AppData\\Roaming\\nltk_data...\n",
      "[nltk_data]   Package stopwords is already up-to-date!\n"
     ]
    }
   ],
   "source": [
    "corpus = data['Текст отзыва'].values.astype('U')\n",
    "\n",
    "nltk.download('stopwords')\n",
    "stopwords = set(nltk_stopwords.words('russian'))\n",
    "\n"
   ]
  },
  {
   "cell_type": "markdown",
   "id": "b9004dcb",
   "metadata": {},
   "source": [
    "### Обучение модели"
   ]
  },
  {
   "cell_type": "code",
   "execution_count": 66,
   "id": "2aa4888d",
   "metadata": {},
   "outputs": [],
   "source": [
    "features = data.drop('target', axis=1)\n",
    "target = data['target']"
   ]
  },
  {
   "cell_type": "code",
   "execution_count": 67,
   "id": "054e1374",
   "metadata": {},
   "outputs": [],
   "source": [
    "X_train, X_test, y_train, y_test = train_test_split(features, target, test_size = 0.3, stratify=target, random_state=RND)"
   ]
  },
  {
   "cell_type": "code",
   "execution_count": 68,
   "id": "4814b4e9",
   "metadata": {
    "scrolled": true
   },
   "outputs": [
    {
     "name": "stdout",
     "output_type": "stream",
     "text": [
      "Лучшие параметры {'clf__C': 10, 'clf__class_weight': 'balanced'}\n",
      "Лучшая метрика 0.9121545129713068\n",
      "CPU times: total: 78.1 ms\n",
      "Wall time: 4.44 s\n"
     ]
    }
   ],
   "source": [
    "%%time\n",
    "\n",
    "lr_pipe = Pipeline([\n",
    "    ('tfidf', TfidfVectorizer(ngram_range=(1,3), min_df=3, max_df=0.9, use_idf=1,\n",
    "               smooth_idf=1, sublinear_tf=1, stop_words=stopwords)),\n",
    "    ('clf', LogisticRegression(random_state=RND))])\n",
    "\n",
    "params = {'clf__C': [0.1, 1, 10, 100],\n",
    "          'clf__class_weight': ['balanced']}\n",
    "\n",
    "lr_grid = GridSearchCV(estimator=lr_pipe,\n",
    "                       param_grid=params,\n",
    "                       cv=3, scoring='f1',\n",
    "                       n_jobs=-1,\n",
    "                       refit=False\n",
    "                      \n",
    "                      )\n",
    "\n",
    "lr_grid.fit(X_train['Текст отзыва'], y_train)\n",
    "\n",
    "\n",
    "print('Лучшие параметры', lr_grid.best_params_)\n",
    "print('Лучшая метрика', lr_grid.best_score_)"
   ]
  },
  {
   "cell_type": "markdown",
   "id": "d61a6810",
   "metadata": {},
   "source": [
    "Лучшие параметры {'clf__C': 10, 'clf__class_weight': 'balanced'}\n",
    "\n",
    "Лучшая метрика 0.9121545129713068\n",
    "\n",
    "CPU times: total: 31.2 ms\n",
    "\n",
    "Wall time: 359 ms"
   ]
  },
  {
   "cell_type": "code",
   "execution_count": 69,
   "id": "a89a032f",
   "metadata": {
    "scrolled": true
   },
   "outputs": [
    {
     "name": "stdout",
     "output_type": "stream",
     "text": [
      "Лучшие параметры {'clf__learning_rate': 0.15, 'clf__max_depth': 8, 'clf__n_estimators': 150}\n",
      "Лучшая метрика 0.9012098903420737\n",
      "CPU times: total: 109 ms\n",
      "Wall time: 2.68 s\n"
     ]
    }
   ],
   "source": [
    "%%time\n",
    "\n",
    "lgb_pipe = Pipeline([\n",
    "    ('tfidf', TfidfVectorizer(ngram_range=(1,3), min_df=3, max_df=0.9, use_idf=1,\n",
    "               smooth_idf=1, sublinear_tf=1, stop_words=stopwords)),\n",
    "    ('clf', LGBMClassifier(random_state=RND))])\n",
    "\n",
    "params = {\n",
    "  'clf__n_estimators': [150],\n",
    "  'clf__learning_rate': [0.15, 0.25],\n",
    "  'clf__max_depth': [8, 10, -1]}\n",
    "\n",
    "lgb_grid = GridSearchCV(estimator=lgb_pipe, \n",
    "                        param_grid=params, \n",
    "                        cv=3, scoring='f1',\n",
    "                        n_jobs=-1,\n",
    "                        refit=False\n",
    "                       )\n",
    "lgb_grid.fit(X_train['Текст отзыва'], y_train)\n",
    "lgb_best_params = lgb_grid.best_params_\n",
    "\n",
    "print('Лучшие параметры', lgb_best_params)\n",
    "print('Лучшая метрика', lgb_grid.best_score_)"
   ]
  },
  {
   "cell_type": "markdown",
   "id": "b8464fff",
   "metadata": {},
   "source": [
    "Лучшие параметры {'clf__learning_rate': 0.15, 'clf__max_depth': 8, 'clf__n_estimators': 150}\n",
    "\n",
    "Лучшая метрика 0.9012098903420737\n",
    "\n",
    "CPU times: total: 125 ms\n",
    "\n",
    "Wall time: 2.61 s"
   ]
  },
  {
   "cell_type": "markdown",
   "id": "f98e8297",
   "metadata": {},
   "source": [
    "### Тестирование модели"
   ]
  },
  {
   "cell_type": "code",
   "execution_count": 70,
   "id": "6b5c776e",
   "metadata": {},
   "outputs": [],
   "source": [
    "count_tf_idf = TfidfVectorizer(ngram_range=(1,3),\n",
    "                                min_df=3, \n",
    "                                max_df=0.9, \n",
    "                                use_idf=1,\n",
    "                                smooth_idf=1, \n",
    "                                sublinear_tf=1, \n",
    "                                stop_words=stopwords\n",
    "                           )"
   ]
  },
  {
   "cell_type": "code",
   "execution_count": 71,
   "id": "272ba973",
   "metadata": {},
   "outputs": [
    {
     "name": "stdout",
     "output_type": "stream",
     "text": [
      "Размер матрицы: (2747, 2939)\n",
      "Размер матрицы: (1178, 2939)\n"
     ]
    }
   ],
   "source": [
    "\n",
    "X_train = count_tf_idf.fit_transform(X_train['Текст отзыва'])\n",
    "X_test = count_tf_idf.transform(X_test['Текст отзыва'])\n",
    "\n",
    "print(\"Размер матрицы:\", X_train.shape)\n",
    "print(\"Размер матрицы:\", X_test.shape)"
   ]
  },
  {
   "cell_type": "code",
   "execution_count": 72,
   "id": "64829cf4",
   "metadata": {},
   "outputs": [
    {
     "data": {
      "text/plain": [
       "LogisticRegression(C=10, class_weight='balanced', random_state=12345)"
      ]
     },
     "execution_count": 72,
     "metadata": {},
     "output_type": "execute_result"
    }
   ],
   "source": [
    "lr_m = LogisticRegression(C=10, class_weight='balanced', random_state=RND)\n",
    "lr_m.fit(X_train, y_train)"
   ]
  },
  {
   "cell_type": "code",
   "execution_count": 73,
   "id": "83b476e4",
   "metadata": {},
   "outputs": [
    {
     "name": "stdout",
     "output_type": "stream",
     "text": [
      "F1 метрика на тестовом датасете: 0.91\n"
     ]
    }
   ],
   "source": [
    "y_pred = lr_m.predict(X_test)\n",
    "f1_score = f1_score(y_test, y_pred)\n",
    "\n",
    "print('F1 метрика на тестовом датасете: {:.2f}'.format(f1_score))"
   ]
  },
  {
   "cell_type": "code",
   "execution_count": 74,
   "id": "02bd8768",
   "metadata": {},
   "outputs": [
    {
     "name": "stdout",
     "output_type": "stream",
     "text": [
      "0\n"
     ]
    }
   ],
   "source": [
    "# негативный коментарий\n",
    "comment = \"Это плохая пряжа и очень дорогая\"\n",
    "\n",
    "data_test = pd.DataFrame({'comment_text': [comment]})\n",
    "\n",
    "\n",
    "X = count_tf_idf.transform(data_test['comment_text'])\n",
    "\n",
    "# make a prediction for the comment\n",
    "pred = lr_m.predict(X)\n",
    "\n",
    "# получили значение 0, что совподает с негативным окрасом\n",
    "print(pred[0])"
   ]
  },
  {
   "cell_type": "code",
   "execution_count": 75,
   "id": "7b8b5144",
   "metadata": {},
   "outputs": [
    {
     "name": "stdout",
     "output_type": "stream",
     "text": [
      "1\n"
     ]
    }
   ],
   "source": [
    "# позитивный коментарий\n",
    "comment_pos = \"Все супер набор хороший\"\n",
    "data_test = pd.DataFrame({'comment_text': [comment_pos]})\n",
    "\n",
    "\n",
    "X = count_tf_idf.transform(data_test['comment_text'])\n",
    "\n",
    "# делаем предикт коментария\n",
    "pred = lr_m.predict(X)\n",
    "\n",
    "# получили значение 1, что совподает с текстом\n",
    "print(pred[0])"
   ]
  },
  {
   "cell_type": "markdown",
   "id": "15a59c32",
   "metadata": {},
   "source": [
    "### Выводы\n",
    "\n",
    "Очистил и привел к корню текст комментариев.\n",
    "\n",
    "Импользовал TfidfVectorizer\n",
    "\n",
    "Обучил модель и подобрал гиперпараметры Логической регрессии и LGBMClassifier лучше результат метрики F1 у логической регресии.\n",
    "\n",
    "F1 метрика на тестовом датасете: 0.91\n",
    "\n",
    "Протестировал негативный комментарий и позитивный, модель их определила правиль, но т.к это baseline модел можно попробовать и другие модели как catboost и улучшить результат."
   ]
  },
  {
   "cell_type": "markdown",
   "id": "b5d835a3",
   "metadata": {},
   "source": [
    "Частотность слов"
   ]
  },
  {
   "cell_type": "code",
   "execution_count": 76,
   "id": "584211f3",
   "metadata": {},
   "outputs": [
    {
     "data": {
      "image/png": "[encoded data removed]",
      "text/plain": [
       "<Figure size 1440x1440 with 1 Axes>"
      ]
     },
     "metadata": {},
     "output_type": "display_data"
    }
   ],
   "source": [
    "# функция для облака слов\n",
    "def show_wordcloud(data, title = None):\n",
    "    wordcloud = WordCloud(\n",
    "        background_color = 'white',\n",
    "        max_words = 200,\n",
    "        max_font_size = 40, \n",
    "        scale = 3,\n",
    "        random_state = 42\n",
    "    ).generate(str(data))\n",
    "\n",
    "    fig = plt.figure(1, figsize = (20, 20))\n",
    "    plt.axis('off')\n",
    "    if title: \n",
    "        fig.suptitle(title, fontsize = 20)\n",
    "        fig.subplots_adjust(top = 2.3)\n",
    "\n",
    "    plt.imshow(wordcloud)\n",
    "    plt.show()\n",
    "    \n",
    "# print wordcloud\n",
    "show_wordcloud(data[\"Текст отзыва\"])"
   ]
  }
 ],
 "metadata": {
  "kernelspec": {
   "display_name": "Python 3 (ipykernel)",
   "language": "python",
   "name": "python3"
  },
  "language_info": {
   "codemirror_mode": {
    "name": "ipython",
    "version": 3
   },
   "file_extension": ".py",
   "mimetype": "text/x-python",
   "name": "python",
   "nbconvert_exporter": "python",
   "pygments_lexer": "ipython3",
   "version": "3.9.12"
  }
 },
 "nbformat": 4,
 "nbformat_minor": 5
}
